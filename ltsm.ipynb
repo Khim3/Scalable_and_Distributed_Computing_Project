{
 "cells": [
  {
   "cell_type": "code",
   "execution_count": 1,
   "metadata": {},
   "outputs": [],
   "source": [
    "import torch\n",
    "import torch.nn as nn\n",
    "import torch.optim as optim\n",
    "from sklearn.preprocessing import MinMaxScaler\n",
    "from torch.utils.data import DataLoader, TensorDataset\n",
    "import numpy as np\n",
    "import pandas as pd\n",
    "import matplotlib.pyplot as plt\n",
    "import random\n",
    "from sklearn.model_selection import train_test_split\n",
    "from sklearn.linear_model import LinearRegression\n",
    "from sklearn.metrics import mean_squared_error, mean_absolute_error, mean_absolute_percentage_error,r2_score\n",
    "import warnings\n",
    "import plotly.express as px"
   ]
  },
  {
   "cell_type": "code",
   "execution_count": 2,
   "metadata": {},
   "outputs": [],
   "source": [
    "df = pd.read_csv('./NFLX.csv')"
   ]
  },
  {
   "cell_type": "code",
   "execution_count": 3,
   "metadata": {},
   "outputs": [],
   "source": [
    "dataset = pd.DataFrame(df.reset_index()[\"Close\"])\n",
    "data = dataset.values\n",
    "data = data.astype('float32')"
   ]
  },
  {
   "cell_type": "code",
   "execution_count": 4,
   "metadata": {},
   "outputs": [],
   "source": [
    "scaler = MinMaxScaler(feature_range=(0, 1))\n",
    "data = scaler.fit_transform(data)"
   ]
  },
  {
   "cell_type": "code",
   "execution_count": 5,
   "metadata": {},
   "outputs": [
    {
     "name": "stdout",
     "output_type": "stream",
     "text": [
      "807 202\n"
     ]
    }
   ],
   "source": [
    "train_size = int(len(data)*0.8)\n",
    "test_size = len(data)-train_size \n",
    "train, test = data[0:train_size,:], data[train_size:len(data),:] \n",
    "print(len(train), len(test))"
   ]
  },
  {
   "cell_type": "code",
   "execution_count": 6,
   "metadata": {},
   "outputs": [
    {
     "name": "stdout",
     "output_type": "stream",
     "text": [
      "(805, 1, 1) (805,) (200, 1, 1) (200,)\n"
     ]
    }
   ],
   "source": [
    "# function to take \n",
    "def create_dataset(dataset, look_back=1):\n",
    " dataX, dataY = [], []\n",
    " for i in range(len(dataset)-look_back-1):\n",
    "     a = dataset[i:(i+look_back), 0]\n",
    "     dataX.append(a)\n",
    "     dataY.append(dataset[i + look_back, 0])\n",
    " return np.array(dataX), np.array(dataY)\n",
    "\n",
    "# train and test set\n",
    "look_back = 1\n",
    "trainX, trainY = create_dataset(train, look_back)\n",
    "testX, testY = create_dataset(test, look_back) \n",
    "\n",
    "# reshape the X and y data\n",
    "trainX = np.reshape(trainX, (trainX.shape[0], 1, trainX.shape[1]))\n",
    "testX = np.reshape(testX, (testX.shape[0], 1, testX.shape[1]))\n",
    "print(trainX.shape, trainY.shape, testX.shape, testY.shape)"
   ]
  },
  {
   "cell_type": "code",
   "execution_count": 7,
   "metadata": {},
   "outputs": [],
   "source": [
    "device = torch.device(\"cuda\" if torch.cuda.is_available() else \"cpu\")\n",
    "trainX = torch.tensor(trainX, dtype=torch.float32).to(device)\n",
    "trainY = torch.tensor(trainY, dtype=torch.float32).to(device)\n",
    "testX = torch.tensor(testX, dtype=torch.float32).to(device)\n",
    "testY = torch.tensor(testY, dtype=torch.float32).to(device)"
   ]
  },
  {
   "cell_type": "code",
   "execution_count": 8,
   "metadata": {},
   "outputs": [],
   "source": [
    "# Define the LSTM model\n",
    "class LSTMModel(nn.Module):\n",
    "    def __init__(self, input_size=1, hidden_size=4, num_layers=1, output_size=1):\n",
    "        super(LSTMModel, self).__init__()\n",
    "        self.lstm = nn.LSTM(input_size, hidden_size, num_layers, batch_first=True)\n",
    "        self.fc = nn.Linear(hidden_size, output_size)\n",
    "\n",
    "    def forward(self, x):\n",
    "        h_0 = torch.zeros(1, x.size(0), 4).to(device)  # Hidden state\n",
    "        c_0 = torch.zeros(1, x.size(0), 4).to(device)  # Cell state\n",
    "        out, _ = self.lstm(x, (h_0, c_0))\n",
    "        out = self.fc(out[:, -1, :])  # Take the last output of the sequence\n",
    "        return out\n"
   ]
  },
  {
   "cell_type": "code",
   "execution_count": 9,
   "metadata": {},
   "outputs": [
    {
     "name": "stdout",
     "output_type": "stream",
     "text": [
      "Epoch [10/800], Loss: 0.0667\n",
      "Epoch [20/800], Loss: 0.0597\n",
      "Epoch [30/800], Loss: 0.0534\n",
      "Epoch [40/800], Loss: 0.0477\n",
      "Epoch [50/800], Loss: 0.0428\n",
      "Epoch [60/800], Loss: 0.0386\n",
      "Epoch [70/800], Loss: 0.0352\n",
      "Epoch [80/800], Loss: 0.0326\n",
      "Epoch [90/800], Loss: 0.0306\n",
      "Epoch [100/800], Loss: 0.0291\n",
      "Epoch [110/800], Loss: 0.0280\n",
      "Epoch [120/800], Loss: 0.0272\n",
      "Epoch [130/800], Loss: 0.0265\n",
      "Epoch [140/800], Loss: 0.0259\n",
      "Epoch [150/800], Loss: 0.0253\n",
      "Epoch [160/800], Loss: 0.0247\n",
      "Epoch [170/800], Loss: 0.0240\n",
      "Epoch [180/800], Loss: 0.0234\n",
      "Epoch [190/800], Loss: 0.0228\n",
      "Epoch [200/800], Loss: 0.0222\n",
      "Epoch [210/800], Loss: 0.0215\n",
      "Epoch [220/800], Loss: 0.0209\n",
      "Epoch [230/800], Loss: 0.0202\n",
      "Epoch [240/800], Loss: 0.0195\n",
      "Epoch [250/800], Loss: 0.0188\n",
      "Epoch [260/800], Loss: 0.0181\n",
      "Epoch [270/800], Loss: 0.0174\n",
      "Epoch [280/800], Loss: 0.0167\n",
      "Epoch [290/800], Loss: 0.0160\n",
      "Epoch [300/800], Loss: 0.0153\n",
      "Epoch [310/800], Loss: 0.0145\n",
      "Epoch [320/800], Loss: 0.0138\n",
      "Epoch [330/800], Loss: 0.0131\n",
      "Epoch [340/800], Loss: 0.0124\n",
      "Epoch [350/800], Loss: 0.0117\n",
      "Epoch [360/800], Loss: 0.0110\n",
      "Epoch [370/800], Loss: 0.0103\n",
      "Epoch [380/800], Loss: 0.0096\n",
      "Epoch [390/800], Loss: 0.0089\n",
      "Epoch [400/800], Loss: 0.0083\n",
      "Epoch [410/800], Loss: 0.0077\n",
      "Epoch [420/800], Loss: 0.0071\n",
      "Epoch [430/800], Loss: 0.0065\n",
      "Epoch [440/800], Loss: 0.0060\n",
      "Epoch [450/800], Loss: 0.0055\n",
      "Epoch [460/800], Loss: 0.0050\n",
      "Epoch [470/800], Loss: 0.0045\n",
      "Epoch [480/800], Loss: 0.0041\n",
      "Epoch [490/800], Loss: 0.0037\n",
      "Epoch [500/800], Loss: 0.0033\n",
      "Epoch [510/800], Loss: 0.0030\n",
      "Epoch [520/800], Loss: 0.0027\n",
      "Epoch [530/800], Loss: 0.0024\n",
      "Epoch [540/800], Loss: 0.0022\n",
      "Epoch [550/800], Loss: 0.0020\n",
      "Epoch [560/800], Loss: 0.0018\n",
      "Epoch [570/800], Loss: 0.0016\n",
      "Epoch [580/800], Loss: 0.0014\n",
      "Epoch [590/800], Loss: 0.0013\n",
      "Epoch [600/800], Loss: 0.0012\n",
      "Epoch [610/800], Loss: 0.0011\n",
      "Epoch [620/800], Loss: 0.0010\n",
      "Epoch [630/800], Loss: 0.0009\n",
      "Epoch [640/800], Loss: 0.0009\n",
      "Epoch [650/800], Loss: 0.0008\n",
      "Epoch [660/800], Loss: 0.0008\n",
      "Epoch [670/800], Loss: 0.0007\n",
      "Epoch [680/800], Loss: 0.0007\n",
      "Epoch [690/800], Loss: 0.0007\n",
      "Epoch [700/800], Loss: 0.0006\n",
      "Epoch [710/800], Loss: 0.0006\n",
      "Epoch [720/800], Loss: 0.0006\n",
      "Epoch [730/800], Loss: 0.0006\n",
      "Epoch [740/800], Loss: 0.0006\n",
      "Epoch [750/800], Loss: 0.0006\n",
      "Epoch [760/800], Loss: 0.0006\n",
      "Epoch [770/800], Loss: 0.0006\n",
      "Epoch [780/800], Loss: 0.0006\n",
      "Epoch [790/800], Loss: 0.0006\n",
      "Epoch [800/800], Loss: 0.0005\n"
     ]
    }
   ],
   "source": [
    "seed = 42\n",
    "np.random.seed(seed)\n",
    "torch.manual_seed(seed)\n",
    "random.seed(seed)\n",
    "if torch.cuda.is_available():\n",
    "    torch.cuda.manual_seed_all(seed)\n",
    "model = LSTMModel().to(device)\n",
    "\n",
    "# Define loss function and optimizer\n",
    "criterion = nn.MSELoss()\n",
    "optimizer = torch.optim.Adam(model.parameters(), lr=0.001)\n",
    "\n",
    "# Training loop\n",
    "epochs = 800\n",
    "for epoch in range(epochs):\n",
    "    model.train()\n",
    "    optimizer.zero_grad()\n",
    "    outputs = model(trainX)\n",
    "    loss = criterion(outputs, trainY.unsqueeze(1))\n",
    "    loss.backward()\n",
    "    optimizer.step()\n",
    "    if (epoch + 1) % 10 == 0:\n",
    "        print(f\"Epoch [{epoch + 1}/{epochs}], Loss: {loss.item():.4f}\")\n"
   ]
  },
  {
   "cell_type": "code",
   "execution_count": 10,
   "metadata": {},
   "outputs": [
    {
     "name": "stdout",
     "output_type": "stream",
     "text": [
      "Train Score: 10.72 RMSE\n",
      "Test Score: 15.84 RMSE\n"
     ]
    }
   ],
   "source": [
    "# Predictions\n",
    "model.eval()\n",
    "trainPredict = model(trainX).detach().cpu().numpy()\n",
    "testPredict = model(testX).detach().cpu().numpy()\n",
    "\n",
    "# Inverse transform predictions and actual values\n",
    "trainPredict = scaler.inverse_transform(trainPredict)\n",
    "trainY = scaler.inverse_transform(trainY.cpu().numpy().reshape(-1, 1))\n",
    "testPredict = scaler.inverse_transform(testPredict)\n",
    "testY = scaler.inverse_transform(testY.cpu().numpy().reshape(-1, 1))\n",
    "\n",
    "# Calculate root mean squared error\n",
    "trainScore = np.sqrt(mean_squared_error(trainY, trainPredict))\n",
    "print('Train Score: %.2f RMSE' % (trainScore))\n",
    "testScore = np.sqrt(mean_squared_error(testY, testPredict))\n",
    "print('Test Score: %.2f RMSE' % (testScore))"
   ]
  },
  {
   "cell_type": "code",
   "execution_count": 11,
   "metadata": {},
   "outputs": [
    {
     "data": {
      "image/png": "[encoded data removed]",
      "text/plain": [
       "<Figure size 640x480 with 1 Axes>"
      ]
     },
     "metadata": {},
     "output_type": "display_data"
    }
   ],
   "source": [
    "# Shift train predictions for plotting\n",
    "trainPredictPlot = np.empty_like(data)\n",
    "trainPredictPlot[:, :] = np.nan\n",
    "trainPredictPlot[look_back:len(trainPredict) + look_back, :] = trainPredict\n",
    "\n",
    "# Shift test predictions for plotting\n",
    "testPredictPlot = np.empty_like(data)\n",
    "testPredictPlot[:, :] = np.nan\n",
    "testPredictPlot[len(trainPredict) + (look_back * 2) + 1:len(data) - 1, :] = testPredict\n",
    "\n",
    "# Plot baseline and predictions\n",
    "plt.plot(scaler.inverse_transform(data), label=\"Actual Data\")\n",
    "plt.plot(trainPredictPlot, label=\"Train Predictions\")\n",
    "plt.plot(testPredictPlot, label=\"Test Predictions\")\n",
    "plt.legend()\n",
    "plt.show()\n"
   ]
  }
 ],
 "metadata": {
  "kernelspec": {
   "display_name": "Python 3",
   "language": "python",
   "name": "python3"
  },
  "language_info": {
   "codemirror_mode": {
    "name": "ipython",
    "version": 3
   },
   "file_extension": ".py",
   "mimetype": "text/x-python",
   "name": "python",
   "nbconvert_exporter": "python",
   "pygments_lexer": "ipython3",
   "version": "3.12.3"
  }
 },
 "nbformat": 4,
 "nbformat_minor": 2
}
