{
 "cells": [
  {
   "cell_type": "code",
   "execution_count": 1,
   "metadata": {},
   "outputs": [],
   "source": [
    "import numpy as np\n",
    "import matplotlib.pyplot as plt\n",
    "import warnings\n",
    "import plotly.express as px\n",
    "warnings.filterwarnings('ignore')\n",
    "from pyspark import SparkContext\n",
    "from pyspark.sql import SparkSession\n",
    "from pyspark.sql.functions import col, sum\n",
    "from pyspark.ml.feature import VectorAssembler\n",
    "from pyspark.ml.regression import LinearRegression\n",
    "from pyspark.ml.evaluation import RegressionEvaluator\n",
    "from pyspark.ml.tuning import ParamGridBuilder, CrossValidator\n",
    "from pyspark.ml.feature import VectorAssembler\n",
    "from pyspark.sql.functions import col, monotonically_increasing_id, lit, date_add, explode, sequence"
   ]
  },
  {
   "cell_type": "code",
   "execution_count": 2,
   "metadata": {},
   "outputs": [
    {
     "name": "stderr",
     "output_type": "stream",
     "text": [
      "24/12/13 11:24:35 WARN Utils: Your hostname, Khim3PC resolves to a loopback address: 127.0.1.1; using 10.0.122.4 instead (on interface wlo1)\n",
      "24/12/13 11:24:35 WARN Utils: Set SPARK_LOCAL_IP if you need to bind to another address\n",
      "Setting default log level to \"WARN\".\n",
      "To adjust logging level use sc.setLogLevel(newLevel). For SparkR, use setLogLevel(newLevel).\n",
      "24/12/13 11:24:36 WARN NativeCodeLoader: Unable to load native-hadoop library for your platform... using builtin-java classes where applicable\n",
      "24/12/13 11:24:36 WARN Utils: Service 'SparkUI' could not bind on port 4040. Attempting port 4041.\n"
     ]
    }
   ],
   "source": [
    "sc = SparkContext(master = 'local')\n",
    "spark = SparkSession.builder \\\n",
    "          .appName(\"Python Spark SQL basic example\") \\\n",
    "          .config(\"spark.some.config.option\", \"some-value\") \\\n",
    "          .getOrCreate()"
   ]
  },
  {
   "cell_type": "code",
   "execution_count": 3,
   "metadata": {},
   "outputs": [
    {
     "name": "stdout",
     "output_type": "stream",
     "text": [
      "+----------+----------+----------+----------+----------+----------+--------+\n",
      "|      Date|      Open|      High|       Low|     Close| Adj Close|  Volume|\n",
      "+----------+----------+----------+----------+----------+----------+--------+\n",
      "|2018-02-05|     262.0|267.899994|250.029999|254.259995|254.259995|11896100|\n",
      "|2018-02-06|247.699997|266.700012|     245.0|265.720001|265.720001|12595800|\n",
      "|2018-02-07|266.579987|272.450012|264.329987|264.559998|264.559998| 8981500|\n",
      "|2018-02-08|267.079987|267.619995|     250.0|250.100006|250.100006| 9306700|\n",
      "|2018-02-09|253.850006|255.800003|236.110001|249.470001|249.470001|16906900|\n",
      "+----------+----------+----------+----------+----------+----------+--------+\n",
      "only showing top 5 rows\n",
      "\n"
     ]
    }
   ],
   "source": [
    "df = spark.read.csv('./NFLX.csv', header=True, inferSchema=True)\n",
    "df.show(5)"
   ]
  },
  {
   "cell_type": "code",
   "execution_count": 4,
   "metadata": {},
   "outputs": [
    {
     "data": {
      "text/plain": [
       "pyspark.sql.dataframe.DataFrame"
      ]
     },
     "execution_count": 4,
     "metadata": {},
     "output_type": "execute_result"
    }
   ],
   "source": [
    "viz = df\n",
    "type(viz)"
   ]
  },
  {
   "cell_type": "code",
   "execution_count": 5,
   "metadata": {},
   "outputs": [
    {
     "name": "stdout",
     "output_type": "stream",
     "text": [
      "+----+----+----+---+-----+---------+------+\n",
      "|Date|Open|High|Low|Close|Adj Close|Volume|\n",
      "+----+----+----+---+-----+---------+------+\n",
      "|   0|   0|   0|  0|    0|        0|     0|\n",
      "+----+----+----+---+-----+---------+------+\n",
      "\n",
      "root\n",
      " |-- Date: date (nullable = true)\n",
      " |-- Open: double (nullable = true)\n",
      " |-- High: double (nullable = true)\n",
      " |-- Low: double (nullable = true)\n",
      " |-- Close: double (nullable = true)\n",
      " |-- Adj Close: double (nullable = true)\n",
      " |-- Volume: integer (nullable = true)\n",
      "\n",
      "Number of rows: 1009\n",
      "Number of columns: 7\n"
     ]
    }
   ],
   "source": [
    "# 1. Check for null values\n",
    "null_counts = df.select([sum(col(c).isNull().cast(\"int\")).alias(c) for c in df.columns])\n",
    "null_counts.show()\n",
    "\n",
    "# 2. Get schema and row/column counts\n",
    "df.printSchema()\n",
    "print(f\"Number of rows: {df.count()}\")\n",
    "print(f\"Number of columns: {len(df.columns)}\")\n",
    "\n",
    "# 3. Drop duplicates\n",
    "df = df.dropDuplicates()"
   ]
  },
  {
   "cell_type": "code",
   "execution_count": 6,
   "metadata": {},
   "outputs": [
    {
     "name": "stdout",
     "output_type": "stream",
     "text": [
      "Training set row count: 807\n",
      "Testing set row count: 202\n",
      "+----------+----------+----------+----------+----------+----------+-------+\n",
      "|      Date|      Open|      High|       Low|     Close| Adj Close| Volume|\n",
      "+----------+----------+----------+----------+----------+----------+-------+\n",
      "|2021-01-15|     500.0|506.320007|495.100006|497.980011|497.980011|5895800|\n",
      "|2021-08-31|566.119995| 569.47998|561.609985|569.190002|569.190002|2431900|\n",
      "|2019-08-13|309.769989|316.429993|308.160004|312.279999|312.279999|5289400|\n",
      "|2021-05-17|485.589996|492.709991|482.809998|488.940002|488.940002|2705200|\n",
      "|2021-04-27|512.619995| 512.98999|504.579987|505.549988|505.549988|3761300|\n",
      "+----------+----------+----------+----------+----------+----------+-------+\n",
      "only showing top 5 rows\n",
      "\n"
     ]
    }
   ],
   "source": [
    "# Calculate split index\n",
    "split_index = int(df.count() * 0.8)\n",
    "\n",
    "# Split the dataset into training and testing sets\n",
    "train = df.limit(split_index)  # Take the first 80% of rows\n",
    "test = df.subtract(train)      # Subtract the training set from the original DataFrame to get the test set\n",
    "test_copy = test.select(\"*\") \n",
    "# Display row counts of the resulting DataFrames to verify the split\n",
    "print(f\"Training set row count: {train.count()}\")\n",
    "print(f\"Testing set row count: {test.count()}\")\n",
    "test.show(5)"
   ]
  },
  {
   "cell_type": "code",
   "execution_count": 7,
   "metadata": {},
   "outputs": [
    {
     "name": "stdout",
     "output_type": "stream",
     "text": [
      "x_train shape: (807, 4)\n",
      "x_test shape: (202, 4)\n",
      "y_train shape: (807,)\n",
      "y_test shape: (202,)\n"
     ]
    }
   ],
   "source": [
    "import numpy as np\n",
    "\n",
    "# Select features for training and testing\n",
    "x_train = np.array(train.select(\"Open\", \"High\", \"Low\", \"Volume\").collect())\n",
    "x_test = np.array(test.select(\"Open\", \"High\", \"Low\", \"Volume\").collect())\n",
    "\n",
    "# Select labels for training and testing\n",
    "y_train = np.array(train.select(\"Close\").collect()).flatten()\n",
    "y_test = np.array(test.select(\"Close\").collect()).flatten()\n",
    "\n",
    "# Verify the shapes\n",
    "print(f\"x_train shape: {x_train.shape}\")\n",
    "print(f\"x_test shape: {x_test.shape}\")\n",
    "print(f\"y_train shape: {y_train.shape}\")\n",
    "print(f\"y_test shape: {y_test.shape}\")"
   ]
  },
  {
   "cell_type": "code",
   "execution_count": 8,
   "metadata": {},
   "outputs": [
    {
     "name": "stdout",
     "output_type": "stream",
     "text": [
      "+--------------------+----------+\n",
      "|            features|     label|\n",
      "+--------------------+----------+\n",
      "|[500.0,506.320007...|497.980011|\n",
      "|[566.119995,569.4...|569.190002|\n",
      "|[309.769989,316.4...|312.279999|\n",
      "|[485.589996,492.7...|488.940002|\n",
      "|[512.619995,512.9...|505.549988|\n",
      "+--------------------+----------+\n",
      "only showing top 5 rows\n",
      "\n"
     ]
    }
   ],
   "source": [
    "# 1. Assemble feature columns into a single vector column\n",
    "feature_columns = [\"Open\", \"High\", \"Low\", \"Volume\"]\n",
    "assembler = VectorAssembler(inputCols=feature_columns, outputCol=\"features\")\n",
    "\n",
    "train = assembler.transform(train).select(\"features\", col(\"Close\").alias(\"label\"))\n",
    "test = assembler.transform(test).select(\"features\", col(\"Close\").alias(\"label\"))\n",
    "test.show(5)"
   ]
  },
  {
   "cell_type": "code",
   "execution_count": null,
   "metadata": {},
   "outputs": [
    {
     "name": "stderr",
     "output_type": "stream",
     "text": [
      "24/12/13 11:24:46 WARN InstanceBuilder: Failed to load implementation from:dev.ludovic.netlib.blas.VectorBLAS\n",
      "24/12/13 11:24:48 WARN GarbageCollectionMetrics: To enable non-built-in garbage collector(s) List(G1 Concurrent GC), users should configure it(them) to spark.eventLog.gcMetrics.youngGenerationGarbageCollectors or spark.eventLog.gcMetrics.oldGenerationGarbageCollectors\n"
     ]
    },
    {
     "name": "stdout",
     "output_type": "stream",
     "text": [
      "Best Model Params:\n",
      "  Regularization Param (regParam): 0.01\n",
      "  ElasticNet Param (elasticNetParam): 0.0\n",
      "MSE: 11.884\n",
      "RMSE: 3.447\n",
      "MAE: 2.715\n",
      "R2 Score: 0.999\n"
     ]
    }
   ],
   "source": [
    "# 2. Initialize and fit the Linear Regression model\n",
    "linear_regressor = LinearRegression(featuresCol=\"features\", labelCol=\"label\")\n",
    "\n",
    "paramGrid = ParamGridBuilder() \\\n",
    "    .addGrid(linear_regressor.regParam, [0.01, 0.1, 1.0]) \\\n",
    "    .addGrid(linear_regressor.elasticNetParam, [0.0, 0.5, 1.0]) \\\n",
    "    .build()\n",
    "\n",
    "evaluator = RegressionEvaluator(labelCol=\"label\", predictionCol=\"prediction\", metricName=\"rmse\")\n",
    "crossval = CrossValidator(\n",
    "    estimator=linear_regressor,\n",
    "    estimatorParamMaps=paramGrid,\n",
    "    evaluator=evaluator,\n",
    "    numFolds=3  # Number of folds for cross-validation\n",
    ")\n",
    "\n",
    "cv_model = crossval.fit(train)\n",
    "\n",
    "# Get the best model\n",
    "best_model = cv_model.bestModel\n",
    "print(\"Best Model Params:\")\n",
    "print(f\"  Regularization Param (regParam): {best_model._java_obj.getRegParam()}\")\n",
    "print(f\"  ElasticNet Param (elasticNetParam): {best_model._java_obj.getElasticNetParam()}\")\n",
    "\n",
    "# Make predictions on the test set\n",
    "predictions = best_model.transform(test)\n",
    "# 4. Evaluate the model\n",
    "evaluator = RegressionEvaluator(labelCol=\"label\", predictionCol=\"prediction\")\n",
    "\n",
    "# Metrics\n",
    "mse = evaluator.evaluate(predictions, {evaluator.metricName: \"mse\"})\n",
    "rmse = evaluator.evaluate(predictions, {evaluator.metricName: \"rmse\"})\n",
    "mae = evaluator.evaluate(predictions, {evaluator.metricName: \"mae\"})\n",
    "r2 = evaluator.evaluate(predictions, {evaluator.metricName: \"r2\"})\n",
    "\n",
    "print(\"MSE:\", round(mse, 3))\n",
    "print(\"RMSE:\", round(rmse, 3))\n",
    "print(\"MAE:\", round(mae, 3))\n",
    "print(\"R2 Score:\", round(r2, 3))"
   ]
  },
  {
   "cell_type": "code",
   "execution_count": 10,
   "metadata": {},
   "outputs": [],
   "source": [
    "best_model.save(\"./models/linear_regressor\")"
   ]
  },
  {
   "cell_type": "code",
   "execution_count": 11,
   "metadata": {},
   "outputs": [],
   "source": [
    "def style():\n",
    "    plt.figure(facecolor='black', figsize=(15,10))\n",
    "    ax = plt.axes()\n",
    "\n",
    "    ax.tick_params(axis='x', colors='white')    #setting up X-axis tick color to white\n",
    "    ax.tick_params(axis='y', colors='white')    #setting up Y-axis tick color to white\n",
    "\n",
    "    ax.spines['left'].set_color('white')        #setting up Y-axis spine color to white\n",
    "    #ax.spines['right'].set_color('white')\n",
    "    #ax.spines['top'].set_color('white')\n",
    "    ax.spines['bottom'].set_color('white')      #setting up X-axis spine color to white\n",
    "\n",
    "    ax.set_facecolor(\"black\")"
   ]
  },
  {
   "cell_type": "code",
   "execution_count": 12,
   "metadata": {},
   "outputs": [],
   "source": [
    "from pyspark.sql.functions import to_date\n",
    "\n",
    "# Assuming `viz` is your PySpark DataFrame\n",
    "viz = viz.withColumn(\"Date\", to_date(col(\"Date\"), format=\"yyyy-MM-dd\"))"
   ]
  },
  {
   "cell_type": "code",
   "execution_count": 13,
   "metadata": {},
   "outputs": [
    {
     "name": "stdout",
     "output_type": "stream",
     "text": [
      "+----------+----------+-----+\n",
      "|      Date|     Close|index|\n",
      "+----------+----------+-----+\n",
      "|2018-02-05|254.259995|    0|\n",
      "|2018-02-06|265.720001|    1|\n",
      "|2018-02-07|264.559998|    2|\n",
      "|2018-02-08|250.100006|    3|\n",
      "|2018-02-09|249.470001|    4|\n",
      "|2018-02-10|      NULL| NULL|\n",
      "|2018-02-11|      NULL| NULL|\n",
      "|2018-02-12|257.950012|    5|\n",
      "|2018-02-13|258.269989|    6|\n",
      "|2018-02-14|     266.0|    7|\n",
      "|2018-02-15|280.269989|    8|\n",
      "|2018-02-16|278.519989|    9|\n",
      "|2018-02-17|      NULL| NULL|\n",
      "|2018-02-18|      NULL| NULL|\n",
      "|2018-02-19|      NULL| NULL|\n",
      "|2018-02-20|278.549988|   10|\n",
      "|2018-02-21|281.040009|   11|\n",
      "|2018-02-22|278.140015|   12|\n",
      "|2018-02-23|285.929993|   13|\n",
      "|2018-02-24|      NULL| NULL|\n",
      "+----------+----------+-----+\n",
      "only showing top 20 rows\n",
      "\n"
     ]
    }
   ],
   "source": [
    "\n",
    "# Step 1: Select 'Date' and 'Close' columns\n",
    "data = viz.select(\"Date\", \"Close\")\n",
    "\n",
    "# Step 2: Reset the index (create a new column with an index)\n",
    "data = data.withColumn(\"index\", monotonically_increasing_id())\n",
    "\n",
    "# Step 3: Drop duplicates\n",
    "data = data.dropDuplicates([\"Date\"])\n",
    "\n",
    "# Step 4: Generate a complete daily date range (asfreq equivalent)\n",
    "# Get the min and max dates\n",
    "min_date, max_date = data.agg({\"Date\": \"min\"}).first()[0], data.agg({\"Date\": \"max\"}).first()[0]\n",
    "\n",
    "# Create a DataFrame with a full date range\n",
    "date_range = (\n",
    "    spark.sql(f\"SELECT sequence(to_date('{min_date}'), to_date('{max_date}'), interval 1 day) as Date\")\n",
    "    .withColumn(\"Date\", explode(col(\"Date\")))\n",
    ")\n",
    "\n",
    "# Join the original data with the full date range to fill missing dates\n",
    "data = date_range.join(data, on=\"Date\", how=\"left\")\n",
    "\n",
    "# Step 5: Display the resulting DataFrame\n",
    "data.show()\n"
   ]
  },
  {
   "cell_type": "code",
   "execution_count": 14,
   "metadata": {},
   "outputs": [
    {
     "name": "stdout",
     "output_type": "stream",
     "text": [
      "+----------+------------------+\n",
      "|     label|  Close_Prediction|\n",
      "+----------+------------------+\n",
      "|497.980011|  501.360361832153|\n",
      "|569.190002| 565.3667032276204|\n",
      "|312.279999| 313.7339477985556|\n",
      "|488.940002|488.95090707987896|\n",
      "|505.549988|506.92631582065263|\n",
      "+----------+------------------+\n",
      "only showing top 5 rows\n",
      "\n"
     ]
    }
   ],
   "source": [
    "# Join the predictions with the test DataFrame to add a 'Close_Prediction' column\n",
    "test_pred = test.join(\n",
    "    predictions.select(\"features\", \"prediction\"), \n",
    "    on=\"features\", \n",
    "    how=\"inner\"\n",
    ")\n",
    "\n",
    "# Rename the 'prediction' column to 'Close_Prediction'\n",
    "test_pred = test_pred.withColumnRenamed(\"prediction\", \"Close_Prediction\")\n",
    "\n",
    "# Optionally drop the 'features' column if no longer needed\n",
    "test_pred = test_pred.drop(\"features\")\n",
    "\n",
    "# Show the resulting DataFrame\n",
    "test_pred.show(5)"
   ]
  },
  {
   "cell_type": "code",
   "execution_count": 15,
   "metadata": {},
   "outputs": [
    {
     "name": "stdout",
     "output_type": "stream",
     "text": [
      "+----------+----------+----------+----------+----------+----------+-------+------------------+\n",
      "|      Date|      Open|      High|       Low|     Close| Adj Close| Volume|  Close_Prediction|\n",
      "+----------+----------+----------+----------+----------+----------+-------+------------------+\n",
      "|2021-01-15|     500.0|506.320007|495.100006|497.980011|497.980011|5895800|  501.360361832153|\n",
      "|2021-08-31|566.119995| 569.47998|561.609985|569.190002|569.190002|2431900| 565.3667032276204|\n",
      "|2019-08-13|309.769989|316.429993|308.160004|312.279999|312.279999|5289400| 313.7339477985556|\n",
      "|2021-05-17|485.589996|492.709991|482.809998|488.940002|488.940002|2705200|488.95090707987896|\n",
      "|2021-04-27|512.619995| 512.98999|504.579987|505.549988|505.549988|3761300|506.92631582065263|\n",
      "+----------+----------+----------+----------+----------+----------+-------+------------------+\n",
      "only showing top 5 rows\n",
      "\n"
     ]
    }
   ],
   "source": [
    "# Merge the DataFrames on `Close` from test_copy and `label` from test_pred\n",
    "merged_df = test_copy.join(test_pred, test_copy[\"Close\"] == test_pred[\"label\"], how=\"inner\")\n",
    "\n",
    "# Drop the duplicate column `label` after the join\n",
    "merged_df = merged_df.drop(\"label\")\n",
    "\n",
    "# Show the merged DataFrame\n",
    "merged_df.show(5)\n"
   ]
  },
  {
   "cell_type": "code",
   "execution_count": 16,
   "metadata": {},
   "outputs": [
    {
     "data": {
      "text/plain": [
       "(202, 8)"
      ]
     },
     "execution_count": 16,
     "metadata": {},
     "output_type": "execute_result"
    }
   ],
   "source": [
    "import pandas as pd\n",
    "merge_df = merged_df.toPandas()\n",
    "merge_df.shape"
   ]
  },
  {
   "cell_type": "code",
   "execution_count": 17,
   "metadata": {},
   "outputs": [
    {
     "data": {
      "text/html": [
       "<div>\n",
       "<style scoped>\n",
       "    .dataframe tbody tr th:only-of-type {\n",
       "        vertical-align: middle;\n",
       "    }\n",
       "\n",
       "    .dataframe tbody tr th {\n",
       "        vertical-align: top;\n",
       "    }\n",
       "\n",
       "    .dataframe thead th {\n",
       "        text-align: right;\n",
       "    }\n",
       "</style>\n",
       "<table border=\"1\" class=\"dataframe\">\n",
       "  <thead>\n",
       "    <tr style=\"text-align: right;\">\n",
       "      <th></th>\n",
       "      <th>Date</th>\n",
       "      <th>Open</th>\n",
       "      <th>High</th>\n",
       "      <th>Low</th>\n",
       "      <th>Close</th>\n",
       "      <th>Adj Close</th>\n",
       "      <th>Volume</th>\n",
       "      <th>Close_Prediction</th>\n",
       "    </tr>\n",
       "  </thead>\n",
       "  <tbody>\n",
       "    <tr>\n",
       "      <th>0</th>\n",
       "      <td>2021-01-15</td>\n",
       "      <td>500.000000</td>\n",
       "      <td>506.320007</td>\n",
       "      <td>495.100006</td>\n",
       "      <td>497.980011</td>\n",
       "      <td>497.980011</td>\n",
       "      <td>5895800</td>\n",
       "      <td>501.360362</td>\n",
       "    </tr>\n",
       "    <tr>\n",
       "      <th>1</th>\n",
       "      <td>2021-08-31</td>\n",
       "      <td>566.119995</td>\n",
       "      <td>569.479980</td>\n",
       "      <td>561.609985</td>\n",
       "      <td>569.190002</td>\n",
       "      <td>569.190002</td>\n",
       "      <td>2431900</td>\n",
       "      <td>565.366703</td>\n",
       "    </tr>\n",
       "    <tr>\n",
       "      <th>2</th>\n",
       "      <td>2019-08-13</td>\n",
       "      <td>309.769989</td>\n",
       "      <td>316.429993</td>\n",
       "      <td>308.160004</td>\n",
       "      <td>312.279999</td>\n",
       "      <td>312.279999</td>\n",
       "      <td>5289400</td>\n",
       "      <td>313.733948</td>\n",
       "    </tr>\n",
       "    <tr>\n",
       "      <th>3</th>\n",
       "      <td>2021-05-17</td>\n",
       "      <td>485.589996</td>\n",
       "      <td>492.709991</td>\n",
       "      <td>482.809998</td>\n",
       "      <td>488.940002</td>\n",
       "      <td>488.940002</td>\n",
       "      <td>2705200</td>\n",
       "      <td>488.950907</td>\n",
       "    </tr>\n",
       "    <tr>\n",
       "      <th>4</th>\n",
       "      <td>2021-04-27</td>\n",
       "      <td>512.619995</td>\n",
       "      <td>512.989990</td>\n",
       "      <td>504.579987</td>\n",
       "      <td>505.549988</td>\n",
       "      <td>505.549988</td>\n",
       "      <td>3761300</td>\n",
       "      <td>506.926316</td>\n",
       "    </tr>\n",
       "    <tr>\n",
       "      <th>...</th>\n",
       "      <td>...</td>\n",
       "      <td>...</td>\n",
       "      <td>...</td>\n",
       "      <td>...</td>\n",
       "      <td>...</td>\n",
       "      <td>...</td>\n",
       "      <td>...</td>\n",
       "      <td>...</td>\n",
       "    </tr>\n",
       "    <tr>\n",
       "      <th>197</th>\n",
       "      <td>2019-03-25</td>\n",
       "      <td>359.000000</td>\n",
       "      <td>367.040009</td>\n",
       "      <td>357.440002</td>\n",
       "      <td>366.230011</td>\n",
       "      <td>366.230011</td>\n",
       "      <td>8473800</td>\n",
       "      <td>364.318964</td>\n",
       "    </tr>\n",
       "    <tr>\n",
       "      <th>198</th>\n",
       "      <td>2018-09-21</td>\n",
       "      <td>366.589996</td>\n",
       "      <td>372.220001</td>\n",
       "      <td>360.739990</td>\n",
       "      <td>361.190002</td>\n",
       "      <td>361.190002</td>\n",
       "      <td>11930600</td>\n",
       "      <td>367.024404</td>\n",
       "    </tr>\n",
       "    <tr>\n",
       "      <th>199</th>\n",
       "      <td>2019-12-03</td>\n",
       "      <td>302.220001</td>\n",
       "      <td>307.359985</td>\n",
       "      <td>301.880005</td>\n",
       "      <td>306.160004</td>\n",
       "      <td>306.160004</td>\n",
       "      <td>4992800</td>\n",
       "      <td>306.005964</td>\n",
       "    </tr>\n",
       "    <tr>\n",
       "      <th>200</th>\n",
       "      <td>2020-09-22</td>\n",
       "      <td>489.010010</td>\n",
       "      <td>491.820007</td>\n",
       "      <td>479.260010</td>\n",
       "      <td>491.170013</td>\n",
       "      <td>491.170013</td>\n",
       "      <td>3482300</td>\n",
       "      <td>483.769824</td>\n",
       "    </tr>\n",
       "    <tr>\n",
       "      <th>201</th>\n",
       "      <td>2018-03-14</td>\n",
       "      <td>318.160004</td>\n",
       "      <td>323.880005</td>\n",
       "      <td>317.700012</td>\n",
       "      <td>321.549988</td>\n",
       "      <td>321.549988</td>\n",
       "      <td>10475100</td>\n",
       "      <td>322.710958</td>\n",
       "    </tr>\n",
       "  </tbody>\n",
       "</table>\n",
       "<p>202 rows × 8 columns</p>\n",
       "</div>"
      ],
      "text/plain": [
       "           Date        Open        High         Low       Close   Adj Close  \\\n",
       "0    2021-01-15  500.000000  506.320007  495.100006  497.980011  497.980011   \n",
       "1    2021-08-31  566.119995  569.479980  561.609985  569.190002  569.190002   \n",
       "2    2019-08-13  309.769989  316.429993  308.160004  312.279999  312.279999   \n",
       "3    2021-05-17  485.589996  492.709991  482.809998  488.940002  488.940002   \n",
       "4    2021-04-27  512.619995  512.989990  504.579987  505.549988  505.549988   \n",
       "..          ...         ...         ...         ...         ...         ...   \n",
       "197  2019-03-25  359.000000  367.040009  357.440002  366.230011  366.230011   \n",
       "198  2018-09-21  366.589996  372.220001  360.739990  361.190002  361.190002   \n",
       "199  2019-12-03  302.220001  307.359985  301.880005  306.160004  306.160004   \n",
       "200  2020-09-22  489.010010  491.820007  479.260010  491.170013  491.170013   \n",
       "201  2018-03-14  318.160004  323.880005  317.700012  321.549988  321.549988   \n",
       "\n",
       "       Volume  Close_Prediction  \n",
       "0     5895800        501.360362  \n",
       "1     2431900        565.366703  \n",
       "2     5289400        313.733948  \n",
       "3     2705200        488.950907  \n",
       "4     3761300        506.926316  \n",
       "..        ...               ...  \n",
       "197   8473800        364.318964  \n",
       "198  11930600        367.024404  \n",
       "199   4992800        306.005964  \n",
       "200   3482300        483.769824  \n",
       "201  10475100        322.710958  \n",
       "\n",
       "[202 rows x 8 columns]"
      ]
     },
     "execution_count": 17,
     "metadata": {},
     "output_type": "execute_result"
    }
   ],
   "source": [
    "merge_df"
   ]
  },
  {
   "cell_type": "code",
   "execution_count": 18,
   "metadata": {},
   "outputs": [
    {
     "data": {
      "application/vnd.plotly.v1+json": {
       "config": {
        "plotlyServerURL": "https://plot.ly"
       },
       "data": [
        {
         "hovertemplate": "variable=Close<br>Date=%{x}<br>value=%{y}<extra></extra>",
         "legendgroup": "Close",
         "line": {
          "color": "#636efa",
          "dash": "solid"
         },
         "marker": {
          "symbol": "circle"
         },
         "mode": "lines",
         "name": "Close",
         "orientation": "v",
         "showlegend": true,
         "type": "scatter",
         "x": [
          "2018-02-07",
          "2018-02-08",
          "2018-02-20",
          "2018-02-26",
          "2018-03-05",
          "2018-03-06",
          "2018-03-07",
          "2018-03-08",
          "2018-03-09",
          "2018-03-12",
          "2018-03-13",
          "2018-03-14",
          "2018-03-20",
          "2018-03-23",
          "2018-03-28",
          "2018-04-19",
          "2018-05-04",
          "2018-05-07",
          "2018-05-14",
          "2018-05-22",
          "2018-06-29",
          "2018-07-03",
          "2018-07-09",
          "2018-07-16",
          "2018-07-23",
          "2018-07-24",
          "2018-08-23",
          "2018-09-04",
          "2018-09-20",
          "2018-09-21",
          "2018-10-09",
          "2018-10-22",
          "2018-10-29",
          "2018-11-01",
          "2018-11-05",
          "2018-11-08",
          "2018-11-12",
          "2018-11-13",
          "2018-11-21",
          "2018-11-23",
          "2018-11-26",
          "2018-11-28",
          "2018-12-03",
          "2018-12-31",
          "2019-01-14",
          "2019-01-17",
          "2019-01-25",
          "2019-01-30",
          "2019-01-31",
          "2019-02-12",
          "2019-02-14",
          "2019-02-26",
          "2019-02-27",
          "2019-02-28",
          "2019-03-06",
          "2019-03-13",
          "2019-03-14",
          "2019-03-18",
          "2019-03-19",
          "2019-03-21",
          "2019-03-25",
          "2019-03-27",
          "2019-04-12",
          "2019-04-15",
          "2019-04-17",
          "2019-04-18",
          "2019-04-24",
          "2019-04-25",
          "2019-04-29",
          "2019-05-06",
          "2019-05-07",
          "2019-05-08",
          "2019-05-24",
          "2019-06-06",
          "2019-06-27",
          "2019-07-25",
          "2019-07-26",
          "2019-08-08",
          "2019-08-09",
          "2019-08-13",
          "2019-08-16",
          "2019-09-20",
          "2019-09-25",
          "2019-10-04",
          "2019-10-07",
          "2019-10-10",
          "2019-10-18",
          "2019-10-25",
          "2019-11-01",
          "2019-11-06",
          "2019-11-07",
          "2019-11-15",
          "2019-11-22",
          "2019-11-26",
          "2019-12-03",
          "2019-12-04",
          "2019-12-13",
          "2019-12-20",
          "2019-12-23",
          "2019-12-24",
          "2019-12-26",
          "2019-12-27",
          "2020-01-09",
          "2020-01-10",
          "2020-01-14",
          "2020-01-17",
          "2020-01-21",
          "2020-01-23",
          "2020-02-19",
          "2020-02-24",
          "2020-03-06",
          "2020-03-12",
          "2020-03-27",
          "2020-03-31",
          "2020-04-07",
          "2020-04-08",
          "2020-04-09",
          "2020-04-13",
          "2020-04-16",
          "2020-04-23",
          "2020-04-24",
          "2020-04-29",
          "2020-05-13",
          "2020-05-21",
          "2020-05-26",
          "2020-06-04",
          "2020-06-25",
          "2020-07-24",
          "2020-08-04",
          "2020-08-21",
          "2020-08-25",
          "2020-09-10",
          "2020-09-22",
          "2020-09-28",
          "2020-10-06",
          "2020-10-12",
          "2020-10-13",
          "2020-10-14",
          "2020-10-28",
          "2020-11-30",
          "2020-12-09",
          "2020-12-17",
          "2020-12-18",
          "2020-12-21",
          "2020-12-23",
          "2020-12-24",
          "2020-12-30",
          "2021-01-11",
          "2021-01-15",
          "2021-01-29",
          "2021-03-03",
          "2021-03-05",
          "2021-03-08",
          "2021-03-09",
          "2021-03-24",
          "2021-03-25",
          "2021-03-29",
          "2021-04-06",
          "2021-04-09",
          "2021-04-12",
          "2021-04-14",
          "2021-04-19",
          "2021-04-27",
          "2021-04-29",
          "2021-05-17",
          "2021-05-18",
          "2021-05-19",
          "2021-05-26",
          "2021-05-27",
          "2021-06-15",
          "2021-06-22",
          "2021-06-23",
          "2021-07-12",
          "2021-07-14",
          "2021-07-15",
          "2021-07-20",
          "2021-07-28",
          "2021-08-06",
          "2021-08-10",
          "2021-08-13",
          "2021-08-17",
          "2021-08-23",
          "2021-08-30",
          "2021-08-31",
          "2021-09-08",
          "2021-09-09",
          "2021-09-10",
          "2021-09-20",
          "2021-09-29",
          "2021-09-30",
          "2021-10-28",
          "2021-11-23",
          "2021-11-24",
          "2021-11-29",
          "2021-12-10",
          "2021-12-23",
          "2022-01-06",
          "2022-01-11",
          "2022-01-18",
          "2022-01-25",
          "2022-01-28",
          "2022-01-31"
         ],
         "xaxis": "x",
         "y": [
          264.559998,
          250.100006,
          278.549988,
          294.160004,
          315,
          325.220001,
          321.160004,
          317,
          331.440002,
          321.299988,
          315.880005,
          321.549988,
          317.5,
          300.940002,
          285.769989,
          332.700012,
          320.089996,
          326.26001,
          328.529999,
          331.619995,
          391.429993,
          390.519989,
          418.970001,
          400.480011,
          362.660004,
          357.320007,
          339.170013,
          363.600006,
          365.359985,
          361.190002,
          355.709991,
          329.540009,
          284.839996,
          317.380005,
          315.440002,
          317.920013,
          294.070007,
          294.399994,
          262.130005,
          258.820007,
          261.429993,
          282.649994,
          290.299988,
          267.660004,
          332.940002,
          353.190002,
          338.049988,
          340.660004,
          339.5,
          359.970001,
          359.070007,
          364.970001,
          362.869995,
          358.100006,
          359.609985,
          361.209991,
          358.820007,
          363.440002,
          358.779999,
          377.869995,
          366.230011,
          353.369995,
          351.140015,
          348.869995,
          354.73999,
          360.350006,
          374.230011,
          368.329987,
          371.829987,
          378.670013,
          370.459991,
          364.369995,
          354.390015,
          357.130005,
          370.019989,
          326.459991,
          335.779999,
          315.899994,
          308.929993,
          312.279999,
          302.799988,
          270.75,
          264.75,
          272.790009,
          274.459991,
          280.480011,
          275.299988,
          276.820007,
          286.809998,
          288.589996,
          289.570007,
          295.029999,
          310.480011,
          312.48999,
          306.160004,
          304.320007,
          298.5,
          336.899994,
          333.100006,
          333.200012,
          332.630005,
          329.089996,
          335.660004,
          329.049988,
          338.690002,
          339.670013,
          338.109985,
          349.600006,
          386.190002,
          368.700012,
          368.970001,
          315.25,
          357.119995,
          375.5,
          372.279999,
          371.119995,
          370.720001,
          396.720001,
          439.170013,
          426.700012,
          424.98999,
          411.890015,
          438.269989,
          436.25,
          414.769989,
          414.329987,
          465.910004,
          480.450012,
          509.640015,
          492.309998,
          490.579987,
          480.670013,
          491.170013,
          490.649994,
          505.869995,
          539.809998,
          554.090027,
          541.450012,
          486.23999,
          490.700012,
          493.600006,
          532.900024,
          534.450012,
          528.909973,
          514.47998,
          513.969971,
          524.590027,
          499.100006,
          497.980011,
          532.390015,
          520.700012,
          516.390015,
          493.329987,
          506.440002,
          520.809998,
          502.859985,
          513.950012,
          544.530029,
          555.309998,
          552.780029,
          540.02002,
          554.440002,
          505.549988,
          509,
          488.940002,
          486.279999,
          487.700012,
          502.359985,
          503.859985,
          491.899994,
          508.820007,
          512.73999,
          537.309998,
          547.950012,
          542.950012,
          531.049988,
          519.299988,
          520.549988,
          515.840027,
          515.919983,
          518.909973,
          553.330017,
          566.179993,
          569.190002,
          606.049988,
          597.539978,
          598.719971,
          575.429993,
          599.059998,
          610.340027,
          674.049988,
          654.059998,
          658.289978,
          663.840027,
          611.659973,
          614.090027,
          553.289978,
          540.840027,
          510.799988,
          366.420013,
          384.359985,
          427.140015
         ],
         "yaxis": "y"
        },
        {
         "hovertemplate": "variable=Close_Prediction<br>Date=%{x}<br>value=%{y}<extra></extra>",
         "legendgroup": "Close_Prediction",
         "line": {
          "color": "#EF553B",
          "dash": "solid"
         },
         "marker": {
          "symbol": "circle"
         },
         "mode": "lines",
         "name": "Close_Prediction",
         "orientation": "v",
         "showlegend": true,
         "type": "scatter",
         "x": [
          "2018-02-07",
          "2018-02-08",
          "2018-02-20",
          "2018-02-26",
          "2018-03-05",
          "2018-03-06",
          "2018-03-07",
          "2018-03-08",
          "2018-03-09",
          "2018-03-12",
          "2018-03-13",
          "2018-03-14",
          "2018-03-20",
          "2018-03-23",
          "2018-03-28",
          "2018-04-19",
          "2018-05-04",
          "2018-05-07",
          "2018-05-14",
          "2018-05-22",
          "2018-06-29",
          "2018-07-03",
          "2018-07-09",
          "2018-07-16",
          "2018-07-23",
          "2018-07-24",
          "2018-08-23",
          "2018-09-04",
          "2018-09-20",
          "2018-09-21",
          "2018-10-09",
          "2018-10-22",
          "2018-10-29",
          "2018-11-01",
          "2018-11-05",
          "2018-11-08",
          "2018-11-12",
          "2018-11-13",
          "2018-11-21",
          "2018-11-23",
          "2018-11-26",
          "2018-11-28",
          "2018-12-03",
          "2018-12-31",
          "2019-01-14",
          "2019-01-17",
          "2019-01-25",
          "2019-01-30",
          "2019-01-31",
          "2019-02-12",
          "2019-02-14",
          "2019-02-26",
          "2019-02-27",
          "2019-02-28",
          "2019-03-06",
          "2019-03-13",
          "2019-03-14",
          "2019-03-18",
          "2019-03-19",
          "2019-03-21",
          "2019-03-25",
          "2019-03-27",
          "2019-04-12",
          "2019-04-15",
          "2019-04-17",
          "2019-04-18",
          "2019-04-24",
          "2019-04-25",
          "2019-04-29",
          "2019-05-06",
          "2019-05-07",
          "2019-05-08",
          "2019-05-24",
          "2019-06-06",
          "2019-06-27",
          "2019-07-25",
          "2019-07-26",
          "2019-08-08",
          "2019-08-09",
          "2019-08-13",
          "2019-08-16",
          "2019-09-20",
          "2019-09-25",
          "2019-10-04",
          "2019-10-07",
          "2019-10-10",
          "2019-10-18",
          "2019-10-25",
          "2019-11-01",
          "2019-11-06",
          "2019-11-07",
          "2019-11-15",
          "2019-11-22",
          "2019-11-26",
          "2019-12-03",
          "2019-12-04",
          "2019-12-13",
          "2019-12-20",
          "2019-12-23",
          "2019-12-24",
          "2019-12-26",
          "2019-12-27",
          "2020-01-09",
          "2020-01-10",
          "2020-01-14",
          "2020-01-17",
          "2020-01-21",
          "2020-01-23",
          "2020-02-19",
          "2020-02-24",
          "2020-03-06",
          "2020-03-12",
          "2020-03-27",
          "2020-03-31",
          "2020-04-07",
          "2020-04-08",
          "2020-04-09",
          "2020-04-13",
          "2020-04-16",
          "2020-04-23",
          "2020-04-24",
          "2020-04-29",
          "2020-05-13",
          "2020-05-21",
          "2020-05-26",
          "2020-06-04",
          "2020-06-25",
          "2020-07-24",
          "2020-08-04",
          "2020-08-21",
          "2020-08-25",
          "2020-09-10",
          "2020-09-22",
          "2020-09-28",
          "2020-10-06",
          "2020-10-12",
          "2020-10-13",
          "2020-10-14",
          "2020-10-28",
          "2020-11-30",
          "2020-12-09",
          "2020-12-17",
          "2020-12-18",
          "2020-12-21",
          "2020-12-23",
          "2020-12-24",
          "2020-12-30",
          "2021-01-11",
          "2021-01-15",
          "2021-01-29",
          "2021-03-03",
          "2021-03-05",
          "2021-03-08",
          "2021-03-09",
          "2021-03-24",
          "2021-03-25",
          "2021-03-29",
          "2021-04-06",
          "2021-04-09",
          "2021-04-12",
          "2021-04-14",
          "2021-04-19",
          "2021-04-27",
          "2021-04-29",
          "2021-05-17",
          "2021-05-18",
          "2021-05-19",
          "2021-05-26",
          "2021-05-27",
          "2021-06-15",
          "2021-06-22",
          "2021-06-23",
          "2021-07-12",
          "2021-07-14",
          "2021-07-15",
          "2021-07-20",
          "2021-07-28",
          "2021-08-06",
          "2021-08-10",
          "2021-08-13",
          "2021-08-17",
          "2021-08-23",
          "2021-08-30",
          "2021-08-31",
          "2021-09-08",
          "2021-09-09",
          "2021-09-10",
          "2021-09-20",
          "2021-09-29",
          "2021-09-30",
          "2021-10-28",
          "2021-11-23",
          "2021-11-24",
          "2021-11-29",
          "2021-12-10",
          "2021-12-23",
          "2022-01-06",
          "2022-01-11",
          "2022-01-18",
          "2022-01-25",
          "2022-01-28",
          "2022-01-31"
         ],
         "xaxis": "x",
         "y": [
          269.6903862096527,
          254.66219716061605,
          283.2912080836562,
          293.14569767068616,
          310.5388907568524,
          322.9004477659535,
          319.67696195879245,
          317.1411158797766,
          328.9751732243282,
          323.590806662508,
          317.9028829496024,
          322.7109579093057,
          317.86119470872353,
          303.9267660664711,
          286.85888022457624,
          330.42288362685304,
          317.53910285911724,
          325.56811717624686,
          329.6760425531693,
          334.02346373348024,
          394.66372614968583,
          392.3786165911002,
          415.30471379723144,
          398.2552476768594,
          359.1204116464534,
          358.4798544975993,
          342.1477761968505,
          364.66718934132183,
          365.1268530892018,
          367.0244042367455,
          355.5915239205169,
          326.3090679681435,
          285.40709353565165,
          309.760722695613,
          310.7841179168666,
          322.83009139734565,
          295.20320414640264,
          297.5418806742113,
          265.6720162795186,
          261.78070748710417,
          260.282923567561,
          275.1576639441628,
          291.49592655363534,
          268.28164332369425,
          331.8258852715473,
          353.08354232447533,
          337.6920526918657,
          338.5401269222701,
          343.66658761778626,
          356.4373321128902,
          356.1686295749924,
          362.4234591380363,
          364.3123999824461,
          362.03981882551847,
          357.1613311789773,
          358.79431491678076,
          361.4045404503419,
          368.7816238269943,
          359.78436678718174,
          375.63334161209735,
          364.31896377236734,
          354.2818256601742,
          353.70107887996846,
          345.78603540872393,
          357.7987345905412,
          356.93270782998076,
          375.998115145735,
          368.1996062150335,
          370.9760962916539,
          379.442088979888,
          370.8730925622315,
          363.9924304495303,
          357.3273477150787,
          355.37247016278826,
          369.1224889752031,
          324.1292511955551,
          333.84780957586776,
          311.86990908685124,
          309.86717370910185,
          313.7339477985556,
          300.6949650949695,
          272.41124486531345,
          262.95816627665533,
          272.841579020629,
          275.2378721777185,
          276.7489336027539,
          279.60853545031534,
          275.75586815102645,
          284.81985271413976,
          288.20499981890555,
          294.67740186434975,
          292.44431145590926,
          307.4465455892832,
          313.7795151764465,
          306.0059643669859,
          304.50253266949034,
          300.1114458785011,
          334.4150457872009,
          332.9379955881348,
          333.40369098059875,
          334.09864862385496,
          328.41758814874754,
          337.5178955185399,
          330.68151266268285,
          338.61504380982524,
          338.9200118571788,
          335.9061984951905,
          344.3083892485576,
          389.49856402589097,
          368.2694454082756,
          362.44188679603934,
          319.20911769261375,
          361.91044114398125,
          378.65333920964065,
          373.1103062406043,
          373.25610743020013,
          366.04464127689073,
          391.1379856721424,
          443.3323468304373,
          434.582967994716,
          420.1008479294614,
          407.781909720226,
          438.07179339734734,
          435.2268154782895,
          417.4414832405479,
          417.8299843511884,
          461.454354074491,
          482.1528650874818,
          507.90561149973763,
          492.96945111267195,
          489.4016316194869,
          486.9215628355144,
          483.76982424853816,
          482.87276800008163,
          510.028159519436,
          543.2691739780491,
          551.2051276237589,
          553.938661762599,
          490.12306324535797,
          485.32230657674177,
          498.83341082114885,
          532.1356461519415,
          530.348528487566,
          525.3600177467198,
          517.9024561495265,
          516.1238622443532,
          527.6263485030667,
          502.59171100827126,
          501.360361832153,
          534.5133319455495,
          526.0158933057165,
          506.42317240144865,
          501.21215002022075,
          509.205003460361,
          523.8590231937461,
          502.9497070576054,
          514.1816825680419,
          550.9496835242747,
          551.7621503601139,
          555.3660468929115,
          542.4659746380834,
          553.3464440351104,
          506.92631582065263,
          502.55654566379974,
          488.95090707987896,
          490.6526347203544,
          484.65905007670943,
          502.4443569396434,
          501.9799470980109,
          493.0251414865976,
          508.08762478637993,
          514.674419962859,
          534.9825634264042,
          551.2067261633451,
          544.8319316067282,
          530.0374217602083,
          520.2347277844761,
          522.7031900513714,
          515.2802824183046,
          518.5305142748888,
          518.6563215984169,
          551.6439343779333,
          564.2886824040702,
          565.3667032276204,
          606.8166673398416,
          601.2828557097821,
          603.5062799069913,
          576.1183902917501,
          604.4165373996192,
          616.8491527578375,
          673.4275703974122,
          655.225504721829,
          655.4785337747527,
          663.3005839702537,
          609.3166812261132,
          610.1059392536507,
          551.9670803170742,
          537.0479870665375,
          512.828698166843,
          375.6685831735062,
          376.29389584110936,
          419.72488786693776
         ],
         "yaxis": "y"
        }
       ],
       "layout": {
        "height": 600,
        "legend": {
         "title": {
          "text": "variable"
         },
         "tracegroupgap": 0
        },
        "template": {
         "data": {
          "bar": [
           {
            "error_x": {
             "color": "#2a3f5f"
            },
            "error_y": {
             "color": "#2a3f5f"
            },
            "marker": {
             "line": {
              "color": "#E5ECF6",
              "width": 0.5
             },
             "pattern": {
              "fillmode": "overlay",
              "size": 10,
              "solidity": 0.2
             }
            },
            "type": "bar"
           }
          ],
          "barpolar": [
           {
            "marker": {
             "line": {
              "color": "#E5ECF6",
              "width": 0.5
             },
             "pattern": {
              "fillmode": "overlay",
              "size": 10,
              "solidity": 0.2
             }
            },
            "type": "barpolar"
           }
          ],
          "carpet": [
           {
            "aaxis": {
             "endlinecolor": "#2a3f5f",
             "gridcolor": "white",
             "linecolor": "white",
             "minorgridcolor": "white",
             "startlinecolor": "#2a3f5f"
            },
            "baxis": {
             "endlinecolor": "#2a3f5f",
             "gridcolor": "white",
             "linecolor": "white",
             "minorgridcolor": "white",
             "startlinecolor": "#2a3f5f"
            },
            "type": "carpet"
           }
          ],
          "choropleth": [
           {
            "colorbar": {
             "outlinewidth": 0,
             "ticks": ""
            },
            "type": "choropleth"
           }
          ],
          "contour": [
           {
            "colorbar": {
             "outlinewidth": 0,
             "ticks": ""
            },
            "colorscale": [
             [
              0,
              "#0d0887"
             ],
             [
              0.1111111111111111,
              "#46039f"
             ],
             [
              0.2222222222222222,
              "#7201a8"
             ],
             [
              0.3333333333333333,
              "#9c179e"
             ],
             [
              0.4444444444444444,
              "#bd3786"
             ],
             [
              0.5555555555555556,
              "#d8576b"
             ],
             [
              0.6666666666666666,
              "#ed7953"
             ],
             [
              0.7777777777777778,
              "#fb9f3a"
             ],
             [
              0.8888888888888888,
              "#fdca26"
             ],
             [
              1,
              "#f0f921"
             ]
            ],
            "type": "contour"
           }
          ],
          "contourcarpet": [
           {
            "colorbar": {
             "outlinewidth": 0,
             "ticks": ""
            },
            "type": "contourcarpet"
           }
          ],
          "heatmap": [
           {
            "colorbar": {
             "outlinewidth": 0,
             "ticks": ""
            },
            "colorscale": [
             [
              0,
              "#0d0887"
             ],
             [
              0.1111111111111111,
              "#46039f"
             ],
             [
              0.2222222222222222,
              "#7201a8"
             ],
             [
              0.3333333333333333,
              "#9c179e"
             ],
             [
              0.4444444444444444,
              "#bd3786"
             ],
             [
              0.5555555555555556,
              "#d8576b"
             ],
             [
              0.6666666666666666,
              "#ed7953"
             ],
             [
              0.7777777777777778,
              "#fb9f3a"
             ],
             [
              0.8888888888888888,
              "#fdca26"
             ],
             [
              1,
              "#f0f921"
             ]
            ],
            "type": "heatmap"
           }
          ],
          "heatmapgl": [
           {
            "colorbar": {
             "outlinewidth": 0,
             "ticks": ""
            },
            "colorscale": [
             [
              0,
              "#0d0887"
             ],
             [
              0.1111111111111111,
              "#46039f"
             ],
             [
              0.2222222222222222,
              "#7201a8"
             ],
             [
              0.3333333333333333,
              "#9c179e"
             ],
             [
              0.4444444444444444,
              "#bd3786"
             ],
             [
              0.5555555555555556,
              "#d8576b"
             ],
             [
              0.6666666666666666,
              "#ed7953"
             ],
             [
              0.7777777777777778,
              "#fb9f3a"
             ],
             [
              0.8888888888888888,
              "#fdca26"
             ],
             [
              1,
              "#f0f921"
             ]
            ],
            "type": "heatmapgl"
           }
          ],
          "histogram": [
           {
            "marker": {
             "pattern": {
              "fillmode": "overlay",
              "size": 10,
              "solidity": 0.2
             }
            },
            "type": "histogram"
           }
          ],
          "histogram2d": [
           {
            "colorbar": {
             "outlinewidth": 0,
             "ticks": ""
            },
            "colorscale": [
             [
              0,
              "#0d0887"
             ],
             [
              0.1111111111111111,
              "#46039f"
             ],
             [
              0.2222222222222222,
              "#7201a8"
             ],
             [
              0.3333333333333333,
              "#9c179e"
             ],
             [
              0.4444444444444444,
              "#bd3786"
             ],
             [
              0.5555555555555556,
              "#d8576b"
             ],
             [
              0.6666666666666666,
              "#ed7953"
             ],
             [
              0.7777777777777778,
              "#fb9f3a"
             ],
             [
              0.8888888888888888,
              "#fdca26"
             ],
             [
              1,
              "#f0f921"
             ]
            ],
            "type": "histogram2d"
           }
          ],
          "histogram2dcontour": [
           {
            "colorbar": {
             "outlinewidth": 0,
             "ticks": ""
            },
            "colorscale": [
             [
              0,
              "#0d0887"
             ],
             [
              0.1111111111111111,
              "#46039f"
             ],
             [
              0.2222222222222222,
              "#7201a8"
             ],
             [
              0.3333333333333333,
              "#9c179e"
             ],
             [
              0.4444444444444444,
              "#bd3786"
             ],
             [
              0.5555555555555556,
              "#d8576b"
             ],
             [
              0.6666666666666666,
              "#ed7953"
             ],
             [
              0.7777777777777778,
              "#fb9f3a"
             ],
             [
              0.8888888888888888,
              "#fdca26"
             ],
             [
              1,
              "#f0f921"
             ]
            ],
            "type": "histogram2dcontour"
           }
          ],
          "mesh3d": [
           {
            "colorbar": {
             "outlinewidth": 0,
             "ticks": ""
            },
            "type": "mesh3d"
           }
          ],
          "parcoords": [
           {
            "line": {
             "colorbar": {
              "outlinewidth": 0,
              "ticks": ""
             }
            },
            "type": "parcoords"
           }
          ],
          "pie": [
           {
            "automargin": true,
            "type": "pie"
           }
          ],
          "scatter": [
           {
            "fillpattern": {
             "fillmode": "overlay",
             "size": 10,
             "solidity": 0.2
            },
            "type": "scatter"
           }
          ],
          "scatter3d": [
           {
            "line": {
             "colorbar": {
              "outlinewidth": 0,
              "ticks": ""
             }
            },
            "marker": {
             "colorbar": {
              "outlinewidth": 0,
              "ticks": ""
             }
            },
            "type": "scatter3d"
           }
          ],
          "scattercarpet": [
           {
            "marker": {
             "colorbar": {
              "outlinewidth": 0,
              "ticks": ""
             }
            },
            "type": "scattercarpet"
           }
          ],
          "scattergeo": [
           {
            "marker": {
             "colorbar": {
              "outlinewidth": 0,
              "ticks": ""
             }
            },
            "type": "scattergeo"
           }
          ],
          "scattergl": [
           {
            "marker": {
             "colorbar": {
              "outlinewidth": 0,
              "ticks": ""
             }
            },
            "type": "scattergl"
           }
          ],
          "scattermapbox": [
           {
            "marker": {
             "colorbar": {
              "outlinewidth": 0,
              "ticks": ""
             }
            },
            "type": "scattermapbox"
           }
          ],
          "scatterpolar": [
           {
            "marker": {
             "colorbar": {
              "outlinewidth": 0,
              "ticks": ""
             }
            },
            "type": "scatterpolar"
           }
          ],
          "scatterpolargl": [
           {
            "marker": {
             "colorbar": {
              "outlinewidth": 0,
              "ticks": ""
             }
            },
            "type": "scatterpolargl"
           }
          ],
          "scatterternary": [
           {
            "marker": {
             "colorbar": {
              "outlinewidth": 0,
              "ticks": ""
             }
            },
            "type": "scatterternary"
           }
          ],
          "surface": [
           {
            "colorbar": {
             "outlinewidth": 0,
             "ticks": ""
            },
            "colorscale": [
             [
              0,
              "#0d0887"
             ],
             [
              0.1111111111111111,
              "#46039f"
             ],
             [
              0.2222222222222222,
              "#7201a8"
             ],
             [
              0.3333333333333333,
              "#9c179e"
             ],
             [
              0.4444444444444444,
              "#bd3786"
             ],
             [
              0.5555555555555556,
              "#d8576b"
             ],
             [
              0.6666666666666666,
              "#ed7953"
             ],
             [
              0.7777777777777778,
              "#fb9f3a"
             ],
             [
              0.8888888888888888,
              "#fdca26"
             ],
             [
              1,
              "#f0f921"
             ]
            ],
            "type": "surface"
           }
          ],
          "table": [
           {
            "cells": {
             "fill": {
              "color": "#EBF0F8"
             },
             "line": {
              "color": "white"
             }
            },
            "header": {
             "fill": {
              "color": "#C8D4E3"
             },
             "line": {
              "color": "white"
             }
            },
            "type": "table"
           }
          ]
         },
         "layout": {
          "annotationdefaults": {
           "arrowcolor": "#2a3f5f",
           "arrowhead": 0,
           "arrowwidth": 1
          },
          "autotypenumbers": "strict",
          "coloraxis": {
           "colorbar": {
            "outlinewidth": 0,
            "ticks": ""
           }
          },
          "colorscale": {
           "diverging": [
            [
             0,
             "#8e0152"
            ],
            [
             0.1,
             "#c51b7d"
            ],
            [
             0.2,
             "#de77ae"
            ],
            [
             0.3,
             "#f1b6da"
            ],
            [
             0.4,
             "#fde0ef"
            ],
            [
             0.5,
             "#f7f7f7"
            ],
            [
             0.6,
             "#e6f5d0"
            ],
            [
             0.7,
             "#b8e186"
            ],
            [
             0.8,
             "#7fbc41"
            ],
            [
             0.9,
             "#4d9221"
            ],
            [
             1,
             "#276419"
            ]
           ],
           "sequential": [
            [
             0,
             "#0d0887"
            ],
            [
             0.1111111111111111,
             "#46039f"
            ],
            [
             0.2222222222222222,
             "#7201a8"
            ],
            [
             0.3333333333333333,
             "#9c179e"
            ],
            [
             0.4444444444444444,
             "#bd3786"
            ],
            [
             0.5555555555555556,
             "#d8576b"
            ],
            [
             0.6666666666666666,
             "#ed7953"
            ],
            [
             0.7777777777777778,
             "#fb9f3a"
            ],
            [
             0.8888888888888888,
             "#fdca26"
            ],
            [
             1,
             "#f0f921"
            ]
           ],
           "sequentialminus": [
            [
             0,
             "#0d0887"
            ],
            [
             0.1111111111111111,
             "#46039f"
            ],
            [
             0.2222222222222222,
             "#7201a8"
            ],
            [
             0.3333333333333333,
             "#9c179e"
            ],
            [
             0.4444444444444444,
             "#bd3786"
            ],
            [
             0.5555555555555556,
             "#d8576b"
            ],
            [
             0.6666666666666666,
             "#ed7953"
            ],
            [
             0.7777777777777778,
             "#fb9f3a"
            ],
            [
             0.8888888888888888,
             "#fdca26"
            ],
            [
             1,
             "#f0f921"
            ]
           ]
          },
          "colorway": [
           "#636efa",
           "#EF553B",
           "#00cc96",
           "#ab63fa",
           "#FFA15A",
           "#19d3f3",
           "#FF6692",
           "#B6E880",
           "#FF97FF",
           "#FECB52"
          ],
          "font": {
           "color": "#2a3f5f"
          },
          "geo": {
           "bgcolor": "white",
           "lakecolor": "white",
           "landcolor": "#E5ECF6",
           "showlakes": true,
           "showland": true,
           "subunitcolor": "white"
          },
          "hoverlabel": {
           "align": "left"
          },
          "hovermode": "closest",
          "mapbox": {
           "style": "light"
          },
          "paper_bgcolor": "white",
          "plot_bgcolor": "#E5ECF6",
          "polar": {
           "angularaxis": {
            "gridcolor": "white",
            "linecolor": "white",
            "ticks": ""
           },
           "bgcolor": "#E5ECF6",
           "radialaxis": {
            "gridcolor": "white",
            "linecolor": "white",
            "ticks": ""
           }
          },
          "scene": {
           "xaxis": {
            "backgroundcolor": "#E5ECF6",
            "gridcolor": "white",
            "gridwidth": 2,
            "linecolor": "white",
            "showbackground": true,
            "ticks": "",
            "zerolinecolor": "white"
           },
           "yaxis": {
            "backgroundcolor": "#E5ECF6",
            "gridcolor": "white",
            "gridwidth": 2,
            "linecolor": "white",
            "showbackground": true,
            "ticks": "",
            "zerolinecolor": "white"
           },
           "zaxis": {
            "backgroundcolor": "#E5ECF6",
            "gridcolor": "white",
            "gridwidth": 2,
            "linecolor": "white",
            "showbackground": true,
            "ticks": "",
            "zerolinecolor": "white"
           }
          },
          "shapedefaults": {
           "line": {
            "color": "#2a3f5f"
           }
          },
          "ternary": {
           "aaxis": {
            "gridcolor": "white",
            "linecolor": "white",
            "ticks": ""
           },
           "baxis": {
            "gridcolor": "white",
            "linecolor": "white",
            "ticks": ""
           },
           "bgcolor": "#E5ECF6",
           "caxis": {
            "gridcolor": "white",
            "linecolor": "white",
            "ticks": ""
           }
          },
          "title": {
           "x": 0.05
          },
          "xaxis": {
           "automargin": true,
           "gridcolor": "white",
           "linecolor": "white",
           "ticks": "",
           "title": {
            "standoff": 15
           },
           "zerolinecolor": "white",
           "zerolinewidth": 2
          },
          "yaxis": {
           "automargin": true,
           "gridcolor": "white",
           "linecolor": "white",
           "ticks": "",
           "title": {
            "standoff": 15
           },
           "zerolinecolor": "white",
           "zerolinewidth": 2
          }
         }
        },
        "title": {
         "text": "Close Price vs Close Price Prediction"
        },
        "width": 900,
        "xaxis": {
         "anchor": "y",
         "domain": [
          0,
          1
         ],
         "title": {
          "text": "Date"
         }
        },
        "yaxis": {
         "anchor": "x",
         "domain": [
          0,
          1
         ],
         "title": {
          "text": "value"
         }
        }
       }
      }
     },
     "metadata": {},
     "output_type": "display_data"
    }
   ],
   "source": [
    "# Sort the DataFrame by Date\n",
    "merged_df_pandas = merge_df.sort_values(by=\"Date\")\n",
    "\n",
    "# Plot using Plotly\n",
    "fig = px.line(\n",
    "    merged_df_pandas,\n",
    "    x=\"Date\",\n",
    "    y=[\"Close\", \"Close_Prediction\"],\n",
    "    title=\"Close Price vs Close Price Prediction\"\n",
    ")\n",
    "\n",
    "# Adjust the layout for better visualization\n",
    "fig.update_layout(width=900, height=600)\n",
    "\n",
    "# Show the plot\n",
    "fig.show()\n"
   ]
  }
 ],
 "metadata": {
  "kernelspec": {
   "display_name": "Python 3",
   "language": "python",
   "name": "python3"
  },
  "language_info": {
   "codemirror_mode": {
    "name": "ipython",
    "version": 3
   },
   "file_extension": ".py",
   "mimetype": "text/x-python",
   "name": "python",
   "nbconvert_exporter": "python",
   "pygments_lexer": "ipython3",
   "version": "3.12.3"
  }
 },
 "nbformat": 4,
 "nbformat_minor": 2
}
