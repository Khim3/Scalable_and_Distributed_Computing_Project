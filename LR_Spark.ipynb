{
 "cells": [
  {
   "cell_type": "code",
   "execution_count": null,
   "metadata": {},
   "outputs": [],
   "source": [
    "import numpy as np\n",
    "import matplotlib.pyplot as plt\n",
    "import warnings\n",
    "import plotly.express as px\n",
    "warnings.filterwarnings('ignore')\n",
    "from pyspark import SparkContext\n",
    "from pyspark.sql import SparkSession\n",
    "from pyspark.sql.functions import col, sum\n",
    "from pyspark.ml.regression import LinearRegression\n",
    "from pyspark.ml.evaluation import RegressionEvaluator\n",
    "from pyspark.ml.feature import VectorAssembler\n",
    "from pyspark.sql.functions import col, monotonically_increasing_id, lit, date_add, explode, sequence"
   ]
  },
  {
   "cell_type": "code",
   "execution_count": 2,
   "metadata": {},
   "outputs": [
    {
     "name": "stderr",
     "output_type": "stream",
     "text": [
      "24/12/12 18:03:04 WARN Utils: Your hostname, Khim3PC resolves to a loopback address: 127.0.1.1; using 10.0.122.4 instead (on interface wlo1)\n",
      "24/12/12 18:03:04 WARN Utils: Set SPARK_LOCAL_IP if you need to bind to another address\n",
      "Setting default log level to \"WARN\".\n",
      "To adjust logging level use sc.setLogLevel(newLevel). For SparkR, use setLogLevel(newLevel).\n",
      "24/12/12 18:03:05 WARN NativeCodeLoader: Unable to load native-hadoop library for your platform... using builtin-java classes where applicable\n"
     ]
    }
   ],
   "source": [
    "sc = SparkContext(master = 'local')\n",
    "spark = SparkSession.builder \\\n",
    "          .appName(\"Python Spark SQL basic example\") \\\n",
    "          .config(\"spark.some.config.option\", \"some-value\") \\\n",
    "          .getOrCreate()"
   ]
  },
  {
   "cell_type": "code",
   "execution_count": 3,
   "metadata": {},
   "outputs": [
    {
     "name": "stdout",
     "output_type": "stream",
     "text": [
      "+----------+----------+----------+----------+----------+----------+--------+\n",
      "|      Date|      Open|      High|       Low|     Close| Adj Close|  Volume|\n",
      "+----------+----------+----------+----------+----------+----------+--------+\n",
      "|2018-02-05|     262.0|267.899994|250.029999|254.259995|254.259995|11896100|\n",
      "|2018-02-06|247.699997|266.700012|     245.0|265.720001|265.720001|12595800|\n",
      "|2018-02-07|266.579987|272.450012|264.329987|264.559998|264.559998| 8981500|\n",
      "|2018-02-08|267.079987|267.619995|     250.0|250.100006|250.100006| 9306700|\n",
      "|2018-02-09|253.850006|255.800003|236.110001|249.470001|249.470001|16906900|\n",
      "+----------+----------+----------+----------+----------+----------+--------+\n",
      "only showing top 5 rows\n",
      "\n"
     ]
    }
   ],
   "source": [
    "df = spark.read.csv('./NFLX.csv', header=True, inferSchema=True)\n",
    "df.show(5)"
   ]
  },
  {
   "cell_type": "code",
   "execution_count": 4,
   "metadata": {},
   "outputs": [
    {
     "data": {
      "text/plain": [
       "pyspark.sql.dataframe.DataFrame"
      ]
     },
     "execution_count": 4,
     "metadata": {},
     "output_type": "execute_result"
    }
   ],
   "source": [
    "viz = df\n",
    "type(viz)"
   ]
  },
  {
   "cell_type": "code",
   "execution_count": 5,
   "metadata": {},
   "outputs": [
    {
     "name": "stdout",
     "output_type": "stream",
     "text": [
      "+----+----+----+---+-----+---------+------+\n",
      "|Date|Open|High|Low|Close|Adj Close|Volume|\n",
      "+----+----+----+---+-----+---------+------+\n",
      "|   0|   0|   0|  0|    0|        0|     0|\n",
      "+----+----+----+---+-----+---------+------+\n",
      "\n",
      "root\n",
      " |-- Date: date (nullable = true)\n",
      " |-- Open: double (nullable = true)\n",
      " |-- High: double (nullable = true)\n",
      " |-- Low: double (nullable = true)\n",
      " |-- Close: double (nullable = true)\n",
      " |-- Adj Close: double (nullable = true)\n",
      " |-- Volume: integer (nullable = true)\n",
      "\n",
      "Number of rows: 1009\n",
      "Number of columns: 7\n"
     ]
    }
   ],
   "source": [
    "# 1. Check for null values\n",
    "null_counts = df.select([sum(col(c).isNull().cast(\"int\")).alias(c) for c in df.columns])\n",
    "null_counts.show()\n",
    "\n",
    "# 2. Get schema and row/column counts\n",
    "df.printSchema()\n",
    "print(f\"Number of rows: {df.count()}\")\n",
    "print(f\"Number of columns: {len(df.columns)}\")\n",
    "\n",
    "# 3. Drop duplicates\n",
    "df = df.dropDuplicates()"
   ]
  },
  {
   "cell_type": "code",
   "execution_count": 6,
   "metadata": {},
   "outputs": [
    {
     "name": "stdout",
     "output_type": "stream",
     "text": [
      "Training set row count: 807\n",
      "Testing set row count: 202\n",
      "+----------+----------+----------+----------+----------+----------+-------+\n",
      "|      Date|      Open|      High|       Low|     Close| Adj Close| Volume|\n",
      "+----------+----------+----------+----------+----------+----------+-------+\n",
      "|2021-01-15|     500.0|506.320007|495.100006|497.980011|497.980011|5895800|\n",
      "|2021-08-31|566.119995| 569.47998|561.609985|569.190002|569.190002|2431900|\n",
      "|2019-08-13|309.769989|316.429993|308.160004|312.279999|312.279999|5289400|\n",
      "|2021-05-17|485.589996|492.709991|482.809998|488.940002|488.940002|2705200|\n",
      "|2021-04-27|512.619995| 512.98999|504.579987|505.549988|505.549988|3761300|\n",
      "+----------+----------+----------+----------+----------+----------+-------+\n",
      "only showing top 5 rows\n",
      "\n"
     ]
    }
   ],
   "source": [
    "# Calculate split index\n",
    "split_index = int(df.count() * 0.8)\n",
    "\n",
    "# Split the dataset into training and testing sets\n",
    "train = df.limit(split_index)  # Take the first 80% of rows\n",
    "test = df.subtract(train)      # Subtract the training set from the original DataFrame to get the test set\n",
    "\n",
    "# Display row counts of the resulting DataFrames to verify the split\n",
    "print(f\"Training set row count: {train.count()}\")\n",
    "print(f\"Testing set row count: {test.count()}\")\n",
    "test.show(5)"
   ]
  },
  {
   "cell_type": "code",
   "execution_count": 7,
   "metadata": {},
   "outputs": [
    {
     "name": "stdout",
     "output_type": "stream",
     "text": [
      "Original test DataFrame:\n",
      "+----------+----------+----------+----------+----------+----------+-------+\n",
      "|      Date|      Open|      High|       Low|     Close| Adj Close| Volume|\n",
      "+----------+----------+----------+----------+----------+----------+-------+\n",
      "|2021-01-15|     500.0|506.320007|495.100006|497.980011|497.980011|5895800|\n",
      "|2021-08-31|566.119995| 569.47998|561.609985|569.190002|569.190002|2431900|\n",
      "|2019-08-13|309.769989|316.429993|308.160004|312.279999|312.279999|5289400|\n",
      "|2021-05-17|485.589996|492.709991|482.809998|488.940002|488.940002|2705200|\n",
      "|2021-04-27|512.619995| 512.98999|504.579987|505.549988|505.549988|3761300|\n",
      "+----------+----------+----------+----------+----------+----------+-------+\n",
      "only showing top 5 rows\n",
      "\n",
      "Copied test_pred DataFrame:\n",
      "+----------+----------+----------+----------+----------+----------+-------+\n",
      "|      Date|      Open|      High|       Low|     Close| Adj Close| Volume|\n",
      "+----------+----------+----------+----------+----------+----------+-------+\n",
      "|2021-01-15|     500.0|506.320007|495.100006|497.980011|497.980011|5895800|\n",
      "|2021-08-31|566.119995| 569.47998|561.609985|569.190002|569.190002|2431900|\n",
      "|2019-08-13|309.769989|316.429993|308.160004|312.279999|312.279999|5289400|\n",
      "|2021-05-17|485.589996|492.709991|482.809998|488.940002|488.940002|2705200|\n",
      "|2021-04-27|512.619995| 512.98999|504.579987|505.549988|505.549988|3761300|\n",
      "+----------+----------+----------+----------+----------+----------+-------+\n",
      "only showing top 5 rows\n",
      "\n"
     ]
    }
   ],
   "source": [
    "test_copy = test.select(\"*\")  # Select all columns to create a new DataFrame\n",
    "\n",
    "# Test to ensure both are independent\n",
    "print(\"Original test DataFrame:\")\n",
    "test.show(5)\n",
    "\n",
    "print(\"Copied test_pred DataFrame:\")\n",
    "test_copy.show(5)"
   ]
  },
  {
   "cell_type": "code",
   "execution_count": 8,
   "metadata": {},
   "outputs": [
    {
     "name": "stdout",
     "output_type": "stream",
     "text": [
      "x_train shape: (807, 4)\n",
      "x_test shape: (202, 4)\n",
      "y_train shape: (807,)\n",
      "y_test shape: (202,)\n"
     ]
    }
   ],
   "source": [
    "import numpy as np\n",
    "\n",
    "# Select features for training and testing\n",
    "x_train = np.array(train.select(\"Open\", \"High\", \"Low\", \"Volume\").collect())\n",
    "x_test = np.array(test.select(\"Open\", \"High\", \"Low\", \"Volume\").collect())\n",
    "\n",
    "# Select labels for training and testing\n",
    "y_train = np.array(train.select(\"Close\").collect()).flatten()\n",
    "y_test = np.array(test.select(\"Close\").collect()).flatten()\n",
    "\n",
    "# Verify the shapes\n",
    "print(f\"x_train shape: {x_train.shape}\")\n",
    "print(f\"x_test shape: {x_test.shape}\")\n",
    "print(f\"y_train shape: {y_train.shape}\")\n",
    "print(f\"y_test shape: {y_test.shape}\")"
   ]
  },
  {
   "cell_type": "code",
   "execution_count": 9,
   "metadata": {},
   "outputs": [
    {
     "name": "stdout",
     "output_type": "stream",
     "text": [
      "+--------------------+----------+\n",
      "|            features|     label|\n",
      "+--------------------+----------+\n",
      "|[500.0,506.320007...|497.980011|\n",
      "|[566.119995,569.4...|569.190002|\n",
      "|[309.769989,316.4...|312.279999|\n",
      "|[485.589996,492.7...|488.940002|\n",
      "|[512.619995,512.9...|505.549988|\n",
      "+--------------------+----------+\n",
      "only showing top 5 rows\n",
      "\n"
     ]
    }
   ],
   "source": [
    "# 1. Assemble feature columns into a single vector column\n",
    "feature_columns = [\"Open\", \"High\", \"Low\", \"Volume\"]\n",
    "assembler = VectorAssembler(inputCols=feature_columns, outputCol=\"features\")\n",
    "\n",
    "train = assembler.transform(train).select(\"features\", col(\"Close\").alias(\"label\"))\n",
    "test = assembler.transform(test).select(\"features\", col(\"Close\").alias(\"label\"))\n",
    "test.show(5)"
   ]
  },
  {
   "cell_type": "code",
   "execution_count": 10,
   "metadata": {},
   "outputs": [
    {
     "name": "stderr",
     "output_type": "stream",
     "text": [
      "24/12/12 18:03:15 WARN Instrumentation: [2d77a6e9] regParam is zero, which might cause numerical instability and overfitting.\n",
      "24/12/12 18:03:15 WARN InstanceBuilder: Failed to load implementation from:dev.ludovic.netlib.blas.VectorBLAS\n"
     ]
    },
    {
     "name": "stdout",
     "output_type": "stream",
     "text": [
      "MSE: 11.653\n",
      "RMSE: 3.414\n",
      "MAE: 2.661\n",
      "R2 Score: 0.999\n"
     ]
    }
   ],
   "source": [
    "# 2. Initialize and fit the Linear Regression model\n",
    "lr = LinearRegression(featuresCol=\"features\", labelCol=\"label\")\n",
    "model_lnr = lr.fit(train)\n",
    "\n",
    "# 3. Make predictions on the test set\n",
    "predictions = model_lnr.transform(test)\n",
    "\n",
    "# 4. Evaluate the model\n",
    "evaluator = RegressionEvaluator(labelCol=\"label\", predictionCol=\"prediction\")\n",
    "\n",
    "# Metrics\n",
    "mse = evaluator.evaluate(predictions, {evaluator.metricName: \"mse\"})\n",
    "rmse = evaluator.evaluate(predictions, {evaluator.metricName: \"rmse\"})\n",
    "mae = evaluator.evaluate(predictions, {evaluator.metricName: \"mae\"})\n",
    "r2 = evaluator.evaluate(predictions, {evaluator.metricName: \"r2\"})\n",
    "\n",
    "print(\"MSE:\", round(mse, 3))\n",
    "print(\"RMSE:\", round(rmse, 3))\n",
    "print(\"MAE:\", round(mae, 3))\n",
    "print(\"R2 Score:\", round(r2, 3))"
   ]
  },
  {
   "cell_type": "code",
   "execution_count": 11,
   "metadata": {},
   "outputs": [],
   "source": [
    "model_lnr.save(\"./models/linear_regression_model\")"
   ]
  },
  {
   "cell_type": "code",
   "execution_count": 12,
   "metadata": {},
   "outputs": [],
   "source": [
    "def style():\n",
    "    plt.figure(facecolor='black', figsize=(15,10))\n",
    "    ax = plt.axes()\n",
    "\n",
    "    ax.tick_params(axis='x', colors='white')    #setting up X-axis tick color to white\n",
    "    ax.tick_params(axis='y', colors='white')    #setting up Y-axis tick color to white\n",
    "\n",
    "    ax.spines['left'].set_color('white')        #setting up Y-axis spine color to white\n",
    "    #ax.spines['right'].set_color('white')\n",
    "    #ax.spines['top'].set_color('white')\n",
    "    ax.spines['bottom'].set_color('white')      #setting up X-axis spine color to white\n",
    "\n",
    "    ax.set_facecolor(\"black\")"
   ]
  },
  {
   "cell_type": "code",
   "execution_count": 13,
   "metadata": {},
   "outputs": [],
   "source": [
    "from pyspark.sql.functions import to_date\n",
    "\n",
    "# Assuming `viz` is your PySpark DataFrame\n",
    "viz = viz.withColumn(\"Date\", to_date(col(\"Date\"), format=\"yyyy-MM-dd\"))"
   ]
  },
  {
   "cell_type": "code",
   "execution_count": null,
   "metadata": {},
   "outputs": [
    {
     "name": "stdout",
     "output_type": "stream",
     "text": [
      "+----------+----------+-----+\n",
      "|      Date|     Close|index|\n",
      "+----------+----------+-----+\n",
      "|2018-02-05|254.259995|    0|\n",
      "|2018-02-06|265.720001|    1|\n",
      "|2018-02-07|264.559998|    2|\n",
      "|2018-02-08|250.100006|    3|\n",
      "|2018-02-09|249.470001|    4|\n",
      "|2018-02-10|      NULL| NULL|\n",
      "|2018-02-11|      NULL| NULL|\n",
      "|2018-02-12|257.950012|    5|\n",
      "|2018-02-13|258.269989|    6|\n",
      "|2018-02-14|     266.0|    7|\n",
      "|2018-02-15|280.269989|    8|\n",
      "|2018-02-16|278.519989|    9|\n",
      "|2018-02-17|      NULL| NULL|\n",
      "|2018-02-18|      NULL| NULL|\n",
      "|2018-02-19|      NULL| NULL|\n",
      "|2018-02-20|278.549988|   10|\n",
      "|2018-02-21|281.040009|   11|\n",
      "|2018-02-22|278.140015|   12|\n",
      "|2018-02-23|285.929993|   13|\n",
      "|2018-02-24|      NULL| NULL|\n",
      "+----------+----------+-----+\n",
      "only showing top 20 rows\n",
      "\n"
     ]
    }
   ],
   "source": [
    "\n",
    "# Step 1: Select 'Date' and 'Close' columns\n",
    "data = viz.select(\"Date\", \"Close\")\n",
    "\n",
    "# Step 2: Reset the index (create a new column with an index)\n",
    "data = data.withColumn(\"index\", monotonically_increasing_id())\n",
    "\n",
    "# Step 3: Drop duplicates\n",
    "data = data.dropDuplicates([\"Date\"])\n",
    "\n",
    "# Step 4: Generate a complete daily date range (asfreq equivalent)\n",
    "# Get the min and max dates\n",
    "min_date, max_date = data.agg({\"Date\": \"min\"}).first()[0], data.agg({\"Date\": \"max\"}).first()[0]\n",
    "\n",
    "# Create a DataFrame with a full date range\n",
    "date_range = (\n",
    "    spark.sql(f\"SELECT sequence(to_date('{min_date}'), to_date('{max_date}'), interval 1 day) as Date\")\n",
    "    .withColumn(\"Date\", explode(col(\"Date\")))\n",
    ")\n",
    "\n",
    "# Join the original data with the full date range to fill missing dates\n",
    "data = date_range.join(data, on=\"Date\", how=\"left\")\n",
    "\n",
    "# Step 5: Display the resulting DataFrame\n",
    "data.show()\n"
   ]
  },
  {
   "cell_type": "code",
   "execution_count": 15,
   "metadata": {},
   "outputs": [
    {
     "name": "stdout",
     "output_type": "stream",
     "text": [
      "+----------+------------------+\n",
      "|     label|  Close_Prediction|\n",
      "+----------+------------------+\n",
      "|497.980011|  501.417086956984|\n",
      "|569.190002| 565.3540836414134|\n",
      "|312.279999|313.87374094636016|\n",
      "|488.940002|489.08816444062063|\n",
      "|505.549988| 506.7195459103711|\n",
      "+----------+------------------+\n",
      "only showing top 5 rows\n",
      "\n"
     ]
    }
   ],
   "source": [
    "# Join the predictions with the test DataFrame to add a 'Close_Prediction' column\n",
    "test_pred = test.join(\n",
    "    predictions.select(\"features\", \"prediction\"), \n",
    "    on=\"features\", \n",
    "    how=\"inner\"\n",
    ")\n",
    "\n",
    "# Rename the 'prediction' column to 'Close_Prediction'\n",
    "test_pred = test_pred.withColumnRenamed(\"prediction\", \"Close_Prediction\")\n",
    "\n",
    "# Optionally drop the 'features' column if no longer needed\n",
    "test_pred = test_pred.drop(\"features\")\n",
    "\n",
    "# Show the resulting DataFrame\n",
    "test_pred.show(5)"
   ]
  },
  {
   "cell_type": "code",
   "execution_count": 16,
   "metadata": {},
   "outputs": [
    {
     "name": "stdout",
     "output_type": "stream",
     "text": [
      "+----------+----------+----------+----------+----------+----------+-------+------------------+\n",
      "|      Date|      Open|      High|       Low|     Close| Adj Close| Volume|  Close_Prediction|\n",
      "+----------+----------+----------+----------+----------+----------+-------+------------------+\n",
      "|2021-01-15|     500.0|506.320007|495.100006|497.980011|497.980011|5895800|  501.417086956984|\n",
      "|2021-08-31|566.119995| 569.47998|561.609985|569.190002|569.190002|2431900| 565.3540836414134|\n",
      "|2019-08-13|309.769989|316.429993|308.160004|312.279999|312.279999|5289400|313.87374094636016|\n",
      "|2021-05-17|485.589996|492.709991|482.809998|488.940002|488.940002|2705200|489.08816444062063|\n",
      "|2021-04-27|512.619995| 512.98999|504.579987|505.549988|505.549988|3761300| 506.7195459103711|\n",
      "+----------+----------+----------+----------+----------+----------+-------+------------------+\n",
      "only showing top 5 rows\n",
      "\n"
     ]
    }
   ],
   "source": [
    "# Merge the DataFrames on `Close` from test_copy and `label` from test_pred\n",
    "merged_df = test_copy.join(test_pred, test_copy[\"Close\"] == test_pred[\"label\"], how=\"inner\")\n",
    "\n",
    "# Drop the duplicate column `label` after the join\n",
    "merged_df = merged_df.drop(\"label\")\n",
    "\n",
    "# Show the merged DataFrame\n",
    "merged_df.show(5)\n"
   ]
  },
  {
   "cell_type": "code",
   "execution_count": 17,
   "metadata": {},
   "outputs": [
    {
     "data": {
      "text/plain": [
       "(202, 8)"
      ]
     },
     "execution_count": 17,
     "metadata": {},
     "output_type": "execute_result"
    }
   ],
   "source": [
    "import pandas as pd\n",
    "merge_df = merged_df.toPandas()\n",
    "merge_df.shape"
   ]
  },
  {
   "cell_type": "code",
   "execution_count": 18,
   "metadata": {},
   "outputs": [
    {
     "data": {
      "text/html": [
       "<div>\n",
       "<style scoped>\n",
       "    .dataframe tbody tr th:only-of-type {\n",
       "        vertical-align: middle;\n",
       "    }\n",
       "\n",
       "    .dataframe tbody tr th {\n",
       "        vertical-align: top;\n",
       "    }\n",
       "\n",
       "    .dataframe thead th {\n",
       "        text-align: right;\n",
       "    }\n",
       "</style>\n",
       "<table border=\"1\" class=\"dataframe\">\n",
       "  <thead>\n",
       "    <tr style=\"text-align: right;\">\n",
       "      <th></th>\n",
       "      <th>Date</th>\n",
       "      <th>Open</th>\n",
       "      <th>High</th>\n",
       "      <th>Low</th>\n",
       "      <th>Close</th>\n",
       "      <th>Adj Close</th>\n",
       "      <th>Volume</th>\n",
       "      <th>Close_Prediction</th>\n",
       "    </tr>\n",
       "  </thead>\n",
       "  <tbody>\n",
       "    <tr>\n",
       "      <th>0</th>\n",
       "      <td>2021-01-15</td>\n",
       "      <td>500.000000</td>\n",
       "      <td>506.320007</td>\n",
       "      <td>495.100006</td>\n",
       "      <td>497.980011</td>\n",
       "      <td>497.980011</td>\n",
       "      <td>5895800</td>\n",
       "      <td>501.417087</td>\n",
       "    </tr>\n",
       "    <tr>\n",
       "      <th>1</th>\n",
       "      <td>2021-08-31</td>\n",
       "      <td>566.119995</td>\n",
       "      <td>569.479980</td>\n",
       "      <td>561.609985</td>\n",
       "      <td>569.190002</td>\n",
       "      <td>569.190002</td>\n",
       "      <td>2431900</td>\n",
       "      <td>565.354084</td>\n",
       "    </tr>\n",
       "    <tr>\n",
       "      <th>2</th>\n",
       "      <td>2019-08-13</td>\n",
       "      <td>309.769989</td>\n",
       "      <td>316.429993</td>\n",
       "      <td>308.160004</td>\n",
       "      <td>312.279999</td>\n",
       "      <td>312.279999</td>\n",
       "      <td>5289400</td>\n",
       "      <td>313.873741</td>\n",
       "    </tr>\n",
       "    <tr>\n",
       "      <th>3</th>\n",
       "      <td>2021-05-17</td>\n",
       "      <td>485.589996</td>\n",
       "      <td>492.709991</td>\n",
       "      <td>482.809998</td>\n",
       "      <td>488.940002</td>\n",
       "      <td>488.940002</td>\n",
       "      <td>2705200</td>\n",
       "      <td>489.088164</td>\n",
       "    </tr>\n",
       "    <tr>\n",
       "      <th>4</th>\n",
       "      <td>2021-04-27</td>\n",
       "      <td>512.619995</td>\n",
       "      <td>512.989990</td>\n",
       "      <td>504.579987</td>\n",
       "      <td>505.549988</td>\n",
       "      <td>505.549988</td>\n",
       "      <td>3761300</td>\n",
       "      <td>506.719546</td>\n",
       "    </tr>\n",
       "    <tr>\n",
       "      <th>...</th>\n",
       "      <td>...</td>\n",
       "      <td>...</td>\n",
       "      <td>...</td>\n",
       "      <td>...</td>\n",
       "      <td>...</td>\n",
       "      <td>...</td>\n",
       "      <td>...</td>\n",
       "      <td>...</td>\n",
       "    </tr>\n",
       "    <tr>\n",
       "      <th>197</th>\n",
       "      <td>2019-03-25</td>\n",
       "      <td>359.000000</td>\n",
       "      <td>367.040009</td>\n",
       "      <td>357.440002</td>\n",
       "      <td>366.230011</td>\n",
       "      <td>366.230011</td>\n",
       "      <td>8473800</td>\n",
       "      <td>364.508331</td>\n",
       "    </tr>\n",
       "    <tr>\n",
       "      <th>198</th>\n",
       "      <td>2018-09-21</td>\n",
       "      <td>366.589996</td>\n",
       "      <td>372.220001</td>\n",
       "      <td>360.739990</td>\n",
       "      <td>361.190002</td>\n",
       "      <td>361.190002</td>\n",
       "      <td>11930600</td>\n",
       "      <td>367.023040</td>\n",
       "    </tr>\n",
       "    <tr>\n",
       "      <th>199</th>\n",
       "      <td>2019-12-03</td>\n",
       "      <td>302.220001</td>\n",
       "      <td>307.359985</td>\n",
       "      <td>301.880005</td>\n",
       "      <td>306.160004</td>\n",
       "      <td>306.160004</td>\n",
       "      <td>4992800</td>\n",
       "      <td>306.137666</td>\n",
       "    </tr>\n",
       "    <tr>\n",
       "      <th>200</th>\n",
       "      <td>2020-09-22</td>\n",
       "      <td>489.010010</td>\n",
       "      <td>491.820007</td>\n",
       "      <td>479.260010</td>\n",
       "      <td>491.170013</td>\n",
       "      <td>491.170013</td>\n",
       "      <td>3482300</td>\n",
       "      <td>483.580870</td>\n",
       "    </tr>\n",
       "    <tr>\n",
       "      <th>201</th>\n",
       "      <td>2018-03-14</td>\n",
       "      <td>318.160004</td>\n",
       "      <td>323.880005</td>\n",
       "      <td>317.700012</td>\n",
       "      <td>321.549988</td>\n",
       "      <td>321.549988</td>\n",
       "      <td>10475100</td>\n",
       "      <td>322.862190</td>\n",
       "    </tr>\n",
       "  </tbody>\n",
       "</table>\n",
       "<p>202 rows × 8 columns</p>\n",
       "</div>"
      ],
      "text/plain": [
       "           Date        Open        High         Low       Close   Adj Close  \\\n",
       "0    2021-01-15  500.000000  506.320007  495.100006  497.980011  497.980011   \n",
       "1    2021-08-31  566.119995  569.479980  561.609985  569.190002  569.190002   \n",
       "2    2019-08-13  309.769989  316.429993  308.160004  312.279999  312.279999   \n",
       "3    2021-05-17  485.589996  492.709991  482.809998  488.940002  488.940002   \n",
       "4    2021-04-27  512.619995  512.989990  504.579987  505.549988  505.549988   \n",
       "..          ...         ...         ...         ...         ...         ...   \n",
       "197  2019-03-25  359.000000  367.040009  357.440002  366.230011  366.230011   \n",
       "198  2018-09-21  366.589996  372.220001  360.739990  361.190002  361.190002   \n",
       "199  2019-12-03  302.220001  307.359985  301.880005  306.160004  306.160004   \n",
       "200  2020-09-22  489.010010  491.820007  479.260010  491.170013  491.170013   \n",
       "201  2018-03-14  318.160004  323.880005  317.700012  321.549988  321.549988   \n",
       "\n",
       "       Volume  Close_Prediction  \n",
       "0     5895800        501.417087  \n",
       "1     2431900        565.354084  \n",
       "2     5289400        313.873741  \n",
       "3     2705200        489.088164  \n",
       "4     3761300        506.719546  \n",
       "..        ...               ...  \n",
       "197   8473800        364.508331  \n",
       "198  11930600        367.023040  \n",
       "199   4992800        306.137666  \n",
       "200   3482300        483.580870  \n",
       "201  10475100        322.862190  \n",
       "\n",
       "[202 rows x 8 columns]"
      ]
     },
     "execution_count": 18,
     "metadata": {},
     "output_type": "execute_result"
    }
   ],
   "source": [
    "merge_df"
   ]
  },
  {
   "cell_type": "code",
   "execution_count": null,
   "metadata": {},
   "outputs": [
    {
     "data": {
      "application/vnd.plotly.v1+json": {
       "config": {
        "plotlyServerURL": "https://plot.ly"
       },
       "data": [
        {
         "hovertemplate": "variable=Close<br>Date=%{x}<br>value=%{y}<extra></extra>",
         "legendgroup": "Close",
         "line": {
          "color": "#636efa",
          "dash": "solid"
         },
         "marker": {
          "symbol": "circle"
         },
         "mode": "lines",
         "name": "Close",
         "orientation": "v",
         "showlegend": true,
         "type": "scatter",
         "x": [
          "2018-02-07",
          "2018-02-08",
          "2018-02-20",
          "2018-02-26",
          "2018-03-05",
          "2018-03-06",
          "2018-03-07",
          "2018-03-08",
          "2018-03-09",
          "2018-03-12",
          "2018-03-13",
          "2018-03-14",
          "2018-03-20",
          "2018-03-23",
          "2018-03-28",
          "2018-04-19",
          "2018-05-04",
          "2018-05-07",
          "2018-05-14",
          "2018-05-22",
          "2018-06-29",
          "2018-07-03",
          "2018-07-09",
          "2018-07-16",
          "2018-07-23",
          "2018-07-24",
          "2018-08-23",
          "2018-09-04",
          "2018-09-20",
          "2018-09-21",
          "2018-10-09",
          "2018-10-22",
          "2018-10-29",
          "2018-11-01",
          "2018-11-05",
          "2018-11-08",
          "2018-11-12",
          "2018-11-13",
          "2018-11-21",
          "2018-11-23",
          "2018-11-26",
          "2018-11-28",
          "2018-12-03",
          "2018-12-31",
          "2019-01-14",
          "2019-01-17",
          "2019-01-25",
          "2019-01-30",
          "2019-01-31",
          "2019-02-12",
          "2019-02-14",
          "2019-02-26",
          "2019-02-27",
          "2019-02-28",
          "2019-03-06",
          "2019-03-13",
          "2019-03-14",
          "2019-03-18",
          "2019-03-19",
          "2019-03-21",
          "2019-03-25",
          "2019-03-27",
          "2019-04-12",
          "2019-04-15",
          "2019-04-17",
          "2019-04-18",
          "2019-04-24",
          "2019-04-25",
          "2019-04-29",
          "2019-05-06",
          "2019-05-07",
          "2019-05-08",
          "2019-05-24",
          "2019-06-06",
          "2019-06-27",
          "2019-07-25",
          "2019-07-26",
          "2019-08-08",
          "2019-08-09",
          "2019-08-13",
          "2019-08-16",
          "2019-09-20",
          "2019-09-25",
          "2019-10-04",
          "2019-10-07",
          "2019-10-10",
          "2019-10-18",
          "2019-10-25",
          "2019-11-01",
          "2019-11-06",
          "2019-11-07",
          "2019-11-15",
          "2019-11-22",
          "2019-11-26",
          "2019-12-03",
          "2019-12-04",
          "2019-12-13",
          "2019-12-20",
          "2019-12-23",
          "2019-12-24",
          "2019-12-26",
          "2019-12-27",
          "2020-01-09",
          "2020-01-10",
          "2020-01-14",
          "2020-01-17",
          "2020-01-21",
          "2020-01-23",
          "2020-02-19",
          "2020-02-24",
          "2020-03-06",
          "2020-03-12",
          "2020-03-27",
          "2020-03-31",
          "2020-04-07",
          "2020-04-08",
          "2020-04-09",
          "2020-04-13",
          "2020-04-16",
          "2020-04-23",
          "2020-04-24",
          "2020-04-29",
          "2020-05-13",
          "2020-05-21",
          "2020-05-26",
          "2020-06-04",
          "2020-06-25",
          "2020-07-24",
          "2020-08-04",
          "2020-08-21",
          "2020-08-25",
          "2020-09-10",
          "2020-09-22",
          "2020-09-28",
          "2020-10-06",
          "2020-10-12",
          "2020-10-13",
          "2020-10-14",
          "2020-10-28",
          "2020-11-30",
          "2020-12-09",
          "2020-12-17",
          "2020-12-18",
          "2020-12-21",
          "2020-12-23",
          "2020-12-24",
          "2020-12-30",
          "2021-01-11",
          "2021-01-15",
          "2021-01-29",
          "2021-03-03",
          "2021-03-05",
          "2021-03-08",
          "2021-03-09",
          "2021-03-24",
          "2021-03-25",
          "2021-03-29",
          "2021-04-06",
          "2021-04-09",
          "2021-04-12",
          "2021-04-14",
          "2021-04-19",
          "2021-04-27",
          "2021-04-29",
          "2021-05-17",
          "2021-05-18",
          "2021-05-19",
          "2021-05-26",
          "2021-05-27",
          "2021-06-15",
          "2021-06-22",
          "2021-06-23",
          "2021-07-12",
          "2021-07-14",
          "2021-07-15",
          "2021-07-20",
          "2021-07-28",
          "2021-08-06",
          "2021-08-10",
          "2021-08-13",
          "2021-08-17",
          "2021-08-23",
          "2021-08-30",
          "2021-08-31",
          "2021-09-08",
          "2021-09-09",
          "2021-09-10",
          "2021-09-20",
          "2021-09-29",
          "2021-09-30",
          "2021-10-28",
          "2021-11-23",
          "2021-11-24",
          "2021-11-29",
          "2021-12-10",
          "2021-12-23",
          "2022-01-06",
          "2022-01-11",
          "2022-01-18",
          "2022-01-25",
          "2022-01-28",
          "2022-01-31"
         ],
         "xaxis": "x",
         "y": [
          264.559998,
          250.100006,
          278.549988,
          294.160004,
          315,
          325.220001,
          321.160004,
          317,
          331.440002,
          321.299988,
          315.880005,
          321.549988,
          317.5,
          300.940002,
          285.769989,
          332.700012,
          320.089996,
          326.26001,
          328.529999,
          331.619995,
          391.429993,
          390.519989,
          418.970001,
          400.480011,
          362.660004,
          357.320007,
          339.170013,
          363.600006,
          365.359985,
          361.190002,
          355.709991,
          329.540009,
          284.839996,
          317.380005,
          315.440002,
          317.920013,
          294.070007,
          294.399994,
          262.130005,
          258.820007,
          261.429993,
          282.649994,
          290.299988,
          267.660004,
          332.940002,
          353.190002,
          338.049988,
          340.660004,
          339.5,
          359.970001,
          359.070007,
          364.970001,
          362.869995,
          358.100006,
          359.609985,
          361.209991,
          358.820007,
          363.440002,
          358.779999,
          377.869995,
          366.230011,
          353.369995,
          351.140015,
          348.869995,
          354.73999,
          360.350006,
          374.230011,
          368.329987,
          371.829987,
          378.670013,
          370.459991,
          364.369995,
          354.390015,
          357.130005,
          370.019989,
          326.459991,
          335.779999,
          315.899994,
          308.929993,
          312.279999,
          302.799988,
          270.75,
          264.75,
          272.790009,
          274.459991,
          280.480011,
          275.299988,
          276.820007,
          286.809998,
          288.589996,
          289.570007,
          295.029999,
          310.480011,
          312.48999,
          306.160004,
          304.320007,
          298.5,
          336.899994,
          333.100006,
          333.200012,
          332.630005,
          329.089996,
          335.660004,
          329.049988,
          338.690002,
          339.670013,
          338.109985,
          349.600006,
          386.190002,
          368.700012,
          368.970001,
          315.25,
          357.119995,
          375.5,
          372.279999,
          371.119995,
          370.720001,
          396.720001,
          439.170013,
          426.700012,
          424.98999,
          411.890015,
          438.269989,
          436.25,
          414.769989,
          414.329987,
          465.910004,
          480.450012,
          509.640015,
          492.309998,
          490.579987,
          480.670013,
          491.170013,
          490.649994,
          505.869995,
          539.809998,
          554.090027,
          541.450012,
          486.23999,
          490.700012,
          493.600006,
          532.900024,
          534.450012,
          528.909973,
          514.47998,
          513.969971,
          524.590027,
          499.100006,
          497.980011,
          532.390015,
          520.700012,
          516.390015,
          493.329987,
          506.440002,
          520.809998,
          502.859985,
          513.950012,
          544.530029,
          555.309998,
          552.780029,
          540.02002,
          554.440002,
          505.549988,
          509,
          488.940002,
          486.279999,
          487.700012,
          502.359985,
          503.859985,
          491.899994,
          508.820007,
          512.73999,
          537.309998,
          547.950012,
          542.950012,
          531.049988,
          519.299988,
          520.549988,
          515.840027,
          515.919983,
          518.909973,
          553.330017,
          566.179993,
          569.190002,
          606.049988,
          597.539978,
          598.719971,
          575.429993,
          599.059998,
          610.340027,
          674.049988,
          654.059998,
          658.289978,
          663.840027,
          611.659973,
          614.090027,
          553.289978,
          540.840027,
          510.799988,
          366.420013,
          384.359985,
          427.140015
         ],
         "yaxis": "y"
        },
        {
         "hovertemplate": "variable=Close_Prediction<br>Date=%{x}<br>value=%{y}<extra></extra>",
         "legendgroup": "Close_Prediction",
         "line": {
          "color": "#EF553B",
          "dash": "solid"
         },
         "marker": {
          "symbol": "circle"
         },
         "mode": "lines",
         "name": "Close_Prediction",
         "orientation": "v",
         "showlegend": true,
         "type": "scatter",
         "x": [
          "2018-02-07",
          "2018-02-08",
          "2018-02-20",
          "2018-02-26",
          "2018-03-05",
          "2018-03-06",
          "2018-03-07",
          "2018-03-08",
          "2018-03-09",
          "2018-03-12",
          "2018-03-13",
          "2018-03-14",
          "2018-03-20",
          "2018-03-23",
          "2018-03-28",
          "2018-04-19",
          "2018-05-04",
          "2018-05-07",
          "2018-05-14",
          "2018-05-22",
          "2018-06-29",
          "2018-07-03",
          "2018-07-09",
          "2018-07-16",
          "2018-07-23",
          "2018-07-24",
          "2018-08-23",
          "2018-09-04",
          "2018-09-20",
          "2018-09-21",
          "2018-10-09",
          "2018-10-22",
          "2018-10-29",
          "2018-11-01",
          "2018-11-05",
          "2018-11-08",
          "2018-11-12",
          "2018-11-13",
          "2018-11-21",
          "2018-11-23",
          "2018-11-26",
          "2018-11-28",
          "2018-12-03",
          "2018-12-31",
          "2019-01-14",
          "2019-01-17",
          "2019-01-25",
          "2019-01-30",
          "2019-01-31",
          "2019-02-12",
          "2019-02-14",
          "2019-02-26",
          "2019-02-27",
          "2019-02-28",
          "2019-03-06",
          "2019-03-13",
          "2019-03-14",
          "2019-03-18",
          "2019-03-19",
          "2019-03-21",
          "2019-03-25",
          "2019-03-27",
          "2019-04-12",
          "2019-04-15",
          "2019-04-17",
          "2019-04-18",
          "2019-04-24",
          "2019-04-25",
          "2019-04-29",
          "2019-05-06",
          "2019-05-07",
          "2019-05-08",
          "2019-05-24",
          "2019-06-06",
          "2019-06-27",
          "2019-07-25",
          "2019-07-26",
          "2019-08-08",
          "2019-08-09",
          "2019-08-13",
          "2019-08-16",
          "2019-09-20",
          "2019-09-25",
          "2019-10-04",
          "2019-10-07",
          "2019-10-10",
          "2019-10-18",
          "2019-10-25",
          "2019-11-01",
          "2019-11-06",
          "2019-11-07",
          "2019-11-15",
          "2019-11-22",
          "2019-11-26",
          "2019-12-03",
          "2019-12-04",
          "2019-12-13",
          "2019-12-20",
          "2019-12-23",
          "2019-12-24",
          "2019-12-26",
          "2019-12-27",
          "2020-01-09",
          "2020-01-10",
          "2020-01-14",
          "2020-01-17",
          "2020-01-21",
          "2020-01-23",
          "2020-02-19",
          "2020-02-24",
          "2020-03-06",
          "2020-03-12",
          "2020-03-27",
          "2020-03-31",
          "2020-04-07",
          "2020-04-08",
          "2020-04-09",
          "2020-04-13",
          "2020-04-16",
          "2020-04-23",
          "2020-04-24",
          "2020-04-29",
          "2020-05-13",
          "2020-05-21",
          "2020-05-26",
          "2020-06-04",
          "2020-06-25",
          "2020-07-24",
          "2020-08-04",
          "2020-08-21",
          "2020-08-25",
          "2020-09-10",
          "2020-09-22",
          "2020-09-28",
          "2020-10-06",
          "2020-10-12",
          "2020-10-13",
          "2020-10-14",
          "2020-10-28",
          "2020-11-30",
          "2020-12-09",
          "2020-12-17",
          "2020-12-18",
          "2020-12-21",
          "2020-12-23",
          "2020-12-24",
          "2020-12-30",
          "2021-01-11",
          "2021-01-15",
          "2021-01-29",
          "2021-03-03",
          "2021-03-05",
          "2021-03-08",
          "2021-03-09",
          "2021-03-24",
          "2021-03-25",
          "2021-03-29",
          "2021-04-06",
          "2021-04-09",
          "2021-04-12",
          "2021-04-14",
          "2021-04-19",
          "2021-04-27",
          "2021-04-29",
          "2021-05-17",
          "2021-05-18",
          "2021-05-19",
          "2021-05-26",
          "2021-05-27",
          "2021-06-15",
          "2021-06-22",
          "2021-06-23",
          "2021-07-12",
          "2021-07-14",
          "2021-07-15",
          "2021-07-20",
          "2021-07-28",
          "2021-08-06",
          "2021-08-10",
          "2021-08-13",
          "2021-08-17",
          "2021-08-23",
          "2021-08-30",
          "2021-08-31",
          "2021-09-08",
          "2021-09-09",
          "2021-09-10",
          "2021-09-20",
          "2021-09-29",
          "2021-09-30",
          "2021-10-28",
          "2021-11-23",
          "2021-11-24",
          "2021-11-29",
          "2021-12-10",
          "2021-12-23",
          "2022-01-06",
          "2022-01-11",
          "2022-01-18",
          "2022-01-25",
          "2022-01-28",
          "2022-01-31"
         ],
         "xaxis": "x",
         "y": [
          269.786737199684,
          254.17357211567384,
          283.48400326224566,
          293.2902357118215,
          310.79687442579416,
          322.97894047005,
          319.63144592419974,
          316.92772942289463,
          329.23824218213014,
          323.1769669549754,
          317.65378769786577,
          322.8621898614705,
          318.0232667286073,
          303.7757027145981,
          286.3866335716982,
          330.31479620586384,
          317.85979192351215,
          325.69123879858705,
          329.75907894432294,
          334.0112065877218,
          394.4819873631844,
          392.10677531078795,
          415.2664053490489,
          398.1902693394523,
          359.10114641687784,
          358.13998972071016,
          341.903983361949,
          364.5879030175617,
          364.9230225045032,
          367.02304036437494,
          355.84841012611287,
          326.022390283177,
          284.6215742655522,
          309.9323599082658,
          310.75421964483576,
          322.6167731120865,
          295.0002520250931,
          297.61541021881703,
          265.31787700636704,
          261.82976444084204,
          260.24563122878635,
          275.25117735231396,
          291.40469908220024,
          268.55927969354394,
          331.71432076392966,
          353.18514482049744,
          338.01296027630184,
          338.74433953189424,
          343.8029198626964,
          356.73853962993627,
          356.3227974301925,
          362.3959484877783,
          364.33634293267266,
          362.0156405939538,
          357.28751243802003,
          358.89905169872605,
          361.4312749047467,
          369.0112782774018,
          359.5238954772655,
          375.68344222144367,
          364.5083314310705,
          354.01731854234106,
          353.41062002277124,
          345.58569837252963,
          357.4965480176854,
          356.9931814131702,
          375.7986797682861,
          367.95421090943415,
          370.8698657683707,
          379.5011222073593,
          370.63504174298635,
          363.83478775589646,
          357.39495299318247,
          355.38797924260984,
          369.3429446257425,
          324.30960491539525,
          334.01947790361857,
          311.89077617796517,
          309.71125374562854,
          313.87374094636016,
          300.74938458469705,
          272.0669901836016,
          263.2074278720418,
          272.9947101159244,
          275.3435608288984,
          277.1358583063899,
          279.1941776120396,
          275.9354190567393,
          284.6588048842781,
          288.1953404383694,
          294.81564106226585,
          292.50041162554703,
          307.37126474070953,
          313.7214128312638,
          306.1376657795227,
          304.34507094166673,
          300.1621931028449,
          334.37459524752535,
          332.74527385404434,
          333.37678225120067,
          334.07275162236397,
          328.2369760016554,
          337.3414446743338,
          330.4312268882421,
          338.38483299758497,
          338.8296259535939,
          335.7245792332727,
          344.9737089359721,
          389.54738420681616,
          368.3948316882115,
          362.23382077314756,
          318.9192874292076,
          362.0089648266177,
          379.04989350441383,
          372.84242334977927,
          373.2197952838052,
          365.84437380538543,
          391.8831061139199,
          443.5549377145557,
          435.1500682089391,
          419.90851651072484,
          408.08935897689724,
          438.16379889579963,
          434.7191596248157,
          417.04699234629777,
          417.6604019472581,
          461.5589477240981,
          482.6632309192599,
          508.2624947277138,
          492.84445756972576,
          489.45026763997146,
          486.3109782490508,
          483.58086981505664,
          482.64413644269837,
          509.7117026981199,
          543.0703008001074,
          551.6222516791196,
          553.6223962862038,
          490.26936178300167,
          485.1510297672929,
          498.4050184248138,
          532.2665023653186,
          530.250640526389,
          525.1939186648931,
          517.657075726145,
          516.1759888620147,
          527.5463533285509,
          502.4034312973859,
          501.417086956984,
          534.3923299540304,
          525.279677417122,
          506.22391292929115,
          500.72697039963015,
          509.2865975740348,
          523.4958322110148,
          502.43064477899924,
          514.5167819909544,
          551.1960472841848,
          551.7417942283382,
          555.5436600139006,
          542.0119847693335,
          553.602978540068,
          506.7195459103711,
          502.372150308525,
          489.08816444062063,
          490.74756856936705,
          484.7821546416056,
          502.4569867341457,
          501.9951913295925,
          492.7246952465158,
          508.4580010164091,
          514.9177849360431,
          534.7960075511957,
          551.6052901512444,
          544.499152481381,
          530.1954777797523,
          520.1868514763167,
          522.6673668020272,
          515.1144185068891,
          518.7669911936254,
          518.788618853484,
          551.8745673558923,
          564.5721827703331,
          565.3540836414134,
          606.9482259215323,
          601.1067082010882,
          603.7282778921798,
          575.7360998517904,
          605.017597298455,
          617.1952003086236,
          673.5455750569041,
          655.1430869044259,
          655.4082838678793,
          663.3289259328568,
          609.0549793359293,
          609.8896188970554,
          551.8918462294263,
          537.0652936369985,
          512.5634983922515,
          375.51888540086225,
          375.88235613541985,
          420.3753780820667
         ],
         "yaxis": "y"
        }
       ],
       "layout": {
        "height": 600,
        "legend": {
         "title": {
          "text": "variable"
         },
         "tracegroupgap": 0
        },
        "template": {
         "data": {
          "bar": [
           {
            "error_x": {
             "color": "#2a3f5f"
            },
            "error_y": {
             "color": "#2a3f5f"
            },
            "marker": {
             "line": {
              "color": "#E5ECF6",
              "width": 0.5
             },
             "pattern": {
              "fillmode": "overlay",
              "size": 10,
              "solidity": 0.2
             }
            },
            "type": "bar"
           }
          ],
          "barpolar": [
           {
            "marker": {
             "line": {
              "color": "#E5ECF6",
              "width": 0.5
             },
             "pattern": {
              "fillmode": "overlay",
              "size": 10,
              "solidity": 0.2
             }
            },
            "type": "barpolar"
           }
          ],
          "carpet": [
           {
            "aaxis": {
             "endlinecolor": "#2a3f5f",
             "gridcolor": "white",
             "linecolor": "white",
             "minorgridcolor": "white",
             "startlinecolor": "#2a3f5f"
            },
            "baxis": {
             "endlinecolor": "#2a3f5f",
             "gridcolor": "white",
             "linecolor": "white",
             "minorgridcolor": "white",
             "startlinecolor": "#2a3f5f"
            },
            "type": "carpet"
           }
          ],
          "choropleth": [
           {
            "colorbar": {
             "outlinewidth": 0,
             "ticks": ""
            },
            "type": "choropleth"
           }
          ],
          "contour": [
           {
            "colorbar": {
             "outlinewidth": 0,
             "ticks": ""
            },
            "colorscale": [
             [
              0,
              "#0d0887"
             ],
             [
              0.1111111111111111,
              "#46039f"
             ],
             [
              0.2222222222222222,
              "#7201a8"
             ],
             [
              0.3333333333333333,
              "#9c179e"
             ],
             [
              0.4444444444444444,
              "#bd3786"
             ],
             [
              0.5555555555555556,
              "#d8576b"
             ],
             [
              0.6666666666666666,
              "#ed7953"
             ],
             [
              0.7777777777777778,
              "#fb9f3a"
             ],
             [
              0.8888888888888888,
              "#fdca26"
             ],
             [
              1,
              "#f0f921"
             ]
            ],
            "type": "contour"
           }
          ],
          "contourcarpet": [
           {
            "colorbar": {
             "outlinewidth": 0,
             "ticks": ""
            },
            "type": "contourcarpet"
           }
          ],
          "heatmap": [
           {
            "colorbar": {
             "outlinewidth": 0,
             "ticks": ""
            },
            "colorscale": [
             [
              0,
              "#0d0887"
             ],
             [
              0.1111111111111111,
              "#46039f"
             ],
             [
              0.2222222222222222,
              "#7201a8"
             ],
             [
              0.3333333333333333,
              "#9c179e"
             ],
             [
              0.4444444444444444,
              "#bd3786"
             ],
             [
              0.5555555555555556,
              "#d8576b"
             ],
             [
              0.6666666666666666,
              "#ed7953"
             ],
             [
              0.7777777777777778,
              "#fb9f3a"
             ],
             [
              0.8888888888888888,
              "#fdca26"
             ],
             [
              1,
              "#f0f921"
             ]
            ],
            "type": "heatmap"
           }
          ],
          "heatmapgl": [
           {
            "colorbar": {
             "outlinewidth": 0,
             "ticks": ""
            },
            "colorscale": [
             [
              0,
              "#0d0887"
             ],
             [
              0.1111111111111111,
              "#46039f"
             ],
             [
              0.2222222222222222,
              "#7201a8"
             ],
             [
              0.3333333333333333,
              "#9c179e"
             ],
             [
              0.4444444444444444,
              "#bd3786"
             ],
             [
              0.5555555555555556,
              "#d8576b"
             ],
             [
              0.6666666666666666,
              "#ed7953"
             ],
             [
              0.7777777777777778,
              "#fb9f3a"
             ],
             [
              0.8888888888888888,
              "#fdca26"
             ],
             [
              1,
              "#f0f921"
             ]
            ],
            "type": "heatmapgl"
           }
          ],
          "histogram": [
           {
            "marker": {
             "pattern": {
              "fillmode": "overlay",
              "size": 10,
              "solidity": 0.2
             }
            },
            "type": "histogram"
           }
          ],
          "histogram2d": [
           {
            "colorbar": {
             "outlinewidth": 0,
             "ticks": ""
            },
            "colorscale": [
             [
              0,
              "#0d0887"
             ],
             [
              0.1111111111111111,
              "#46039f"
             ],
             [
              0.2222222222222222,
              "#7201a8"
             ],
             [
              0.3333333333333333,
              "#9c179e"
             ],
             [
              0.4444444444444444,
              "#bd3786"
             ],
             [
              0.5555555555555556,
              "#d8576b"
             ],
             [
              0.6666666666666666,
              "#ed7953"
             ],
             [
              0.7777777777777778,
              "#fb9f3a"
             ],
             [
              0.8888888888888888,
              "#fdca26"
             ],
             [
              1,
              "#f0f921"
             ]
            ],
            "type": "histogram2d"
           }
          ],
          "histogram2dcontour": [
           {
            "colorbar": {
             "outlinewidth": 0,
             "ticks": ""
            },
            "colorscale": [
             [
              0,
              "#0d0887"
             ],
             [
              0.1111111111111111,
              "#46039f"
             ],
             [
              0.2222222222222222,
              "#7201a8"
             ],
             [
              0.3333333333333333,
              "#9c179e"
             ],
             [
              0.4444444444444444,
              "#bd3786"
             ],
             [
              0.5555555555555556,
              "#d8576b"
             ],
             [
              0.6666666666666666,
              "#ed7953"
             ],
             [
              0.7777777777777778,
              "#fb9f3a"
             ],
             [
              0.8888888888888888,
              "#fdca26"
             ],
             [
              1,
              "#f0f921"
             ]
            ],
            "type": "histogram2dcontour"
           }
          ],
          "mesh3d": [
           {
            "colorbar": {
             "outlinewidth": 0,
             "ticks": ""
            },
            "type": "mesh3d"
           }
          ],
          "parcoords": [
           {
            "line": {
             "colorbar": {
              "outlinewidth": 0,
              "ticks": ""
             }
            },
            "type": "parcoords"
           }
          ],
          "pie": [
           {
            "automargin": true,
            "type": "pie"
           }
          ],
          "scatter": [
           {
            "fillpattern": {
             "fillmode": "overlay",
             "size": 10,
             "solidity": 0.2
            },
            "type": "scatter"
           }
          ],
          "scatter3d": [
           {
            "line": {
             "colorbar": {
              "outlinewidth": 0,
              "ticks": ""
             }
            },
            "marker": {
             "colorbar": {
              "outlinewidth": 0,
              "ticks": ""
             }
            },
            "type": "scatter3d"
           }
          ],
          "scattercarpet": [
           {
            "marker": {
             "colorbar": {
              "outlinewidth": 0,
              "ticks": ""
             }
            },
            "type": "scattercarpet"
           }
          ],
          "scattergeo": [
           {
            "marker": {
             "colorbar": {
              "outlinewidth": 0,
              "ticks": ""
             }
            },
            "type": "scattergeo"
           }
          ],
          "scattergl": [
           {
            "marker": {
             "colorbar": {
              "outlinewidth": 0,
              "ticks": ""
             }
            },
            "type": "scattergl"
           }
          ],
          "scattermapbox": [
           {
            "marker": {
             "colorbar": {
              "outlinewidth": 0,
              "ticks": ""
             }
            },
            "type": "scattermapbox"
           }
          ],
          "scatterpolar": [
           {
            "marker": {
             "colorbar": {
              "outlinewidth": 0,
              "ticks": ""
             }
            },
            "type": "scatterpolar"
           }
          ],
          "scatterpolargl": [
           {
            "marker": {
             "colorbar": {
              "outlinewidth": 0,
              "ticks": ""
             }
            },
            "type": "scatterpolargl"
           }
          ],
          "scatterternary": [
           {
            "marker": {
             "colorbar": {
              "outlinewidth": 0,
              "ticks": ""
             }
            },
            "type": "scatterternary"
           }
          ],
          "surface": [
           {
            "colorbar": {
             "outlinewidth": 0,
             "ticks": ""
            },
            "colorscale": [
             [
              0,
              "#0d0887"
             ],
             [
              0.1111111111111111,
              "#46039f"
             ],
             [
              0.2222222222222222,
              "#7201a8"
             ],
             [
              0.3333333333333333,
              "#9c179e"
             ],
             [
              0.4444444444444444,
              "#bd3786"
             ],
             [
              0.5555555555555556,
              "#d8576b"
             ],
             [
              0.6666666666666666,
              "#ed7953"
             ],
             [
              0.7777777777777778,
              "#fb9f3a"
             ],
             [
              0.8888888888888888,
              "#fdca26"
             ],
             [
              1,
              "#f0f921"
             ]
            ],
            "type": "surface"
           }
          ],
          "table": [
           {
            "cells": {
             "fill": {
              "color": "#EBF0F8"
             },
             "line": {
              "color": "white"
             }
            },
            "header": {
             "fill": {
              "color": "#C8D4E3"
             },
             "line": {
              "color": "white"
             }
            },
            "type": "table"
           }
          ]
         },
         "layout": {
          "annotationdefaults": {
           "arrowcolor": "#2a3f5f",
           "arrowhead": 0,
           "arrowwidth": 1
          },
          "autotypenumbers": "strict",
          "coloraxis": {
           "colorbar": {
            "outlinewidth": 0,
            "ticks": ""
           }
          },
          "colorscale": {
           "diverging": [
            [
             0,
             "#8e0152"
            ],
            [
             0.1,
             "#c51b7d"
            ],
            [
             0.2,
             "#de77ae"
            ],
            [
             0.3,
             "#f1b6da"
            ],
            [
             0.4,
             "#fde0ef"
            ],
            [
             0.5,
             "#f7f7f7"
            ],
            [
             0.6,
             "#e6f5d0"
            ],
            [
             0.7,
             "#b8e186"
            ],
            [
             0.8,
             "#7fbc41"
            ],
            [
             0.9,
             "#4d9221"
            ],
            [
             1,
             "#276419"
            ]
           ],
           "sequential": [
            [
             0,
             "#0d0887"
            ],
            [
             0.1111111111111111,
             "#46039f"
            ],
            [
             0.2222222222222222,
             "#7201a8"
            ],
            [
             0.3333333333333333,
             "#9c179e"
            ],
            [
             0.4444444444444444,
             "#bd3786"
            ],
            [
             0.5555555555555556,
             "#d8576b"
            ],
            [
             0.6666666666666666,
             "#ed7953"
            ],
            [
             0.7777777777777778,
             "#fb9f3a"
            ],
            [
             0.8888888888888888,
             "#fdca26"
            ],
            [
             1,
             "#f0f921"
            ]
           ],
           "sequentialminus": [
            [
             0,
             "#0d0887"
            ],
            [
             0.1111111111111111,
             "#46039f"
            ],
            [
             0.2222222222222222,
             "#7201a8"
            ],
            [
             0.3333333333333333,
             "#9c179e"
            ],
            [
             0.4444444444444444,
             "#bd3786"
            ],
            [
             0.5555555555555556,
             "#d8576b"
            ],
            [
             0.6666666666666666,
             "#ed7953"
            ],
            [
             0.7777777777777778,
             "#fb9f3a"
            ],
            [
             0.8888888888888888,
             "#fdca26"
            ],
            [
             1,
             "#f0f921"
            ]
           ]
          },
          "colorway": [
           "#636efa",
           "#EF553B",
           "#00cc96",
           "#ab63fa",
           "#FFA15A",
           "#19d3f3",
           "#FF6692",
           "#B6E880",
           "#FF97FF",
           "#FECB52"
          ],
          "font": {
           "color": "#2a3f5f"
          },
          "geo": {
           "bgcolor": "white",
           "lakecolor": "white",
           "landcolor": "#E5ECF6",
           "showlakes": true,
           "showland": true,
           "subunitcolor": "white"
          },
          "hoverlabel": {
           "align": "left"
          },
          "hovermode": "closest",
          "mapbox": {
           "style": "light"
          },
          "paper_bgcolor": "white",
          "plot_bgcolor": "#E5ECF6",
          "polar": {
           "angularaxis": {
            "gridcolor": "white",
            "linecolor": "white",
            "ticks": ""
           },
           "bgcolor": "#E5ECF6",
           "radialaxis": {
            "gridcolor": "white",
            "linecolor": "white",
            "ticks": ""
           }
          },
          "scene": {
           "xaxis": {
            "backgroundcolor": "#E5ECF6",
            "gridcolor": "white",
            "gridwidth": 2,
            "linecolor": "white",
            "showbackground": true,
            "ticks": "",
            "zerolinecolor": "white"
           },
           "yaxis": {
            "backgroundcolor": "#E5ECF6",
            "gridcolor": "white",
            "gridwidth": 2,
            "linecolor": "white",
            "showbackground": true,
            "ticks": "",
            "zerolinecolor": "white"
           },
           "zaxis": {
            "backgroundcolor": "#E5ECF6",
            "gridcolor": "white",
            "gridwidth": 2,
            "linecolor": "white",
            "showbackground": true,
            "ticks": "",
            "zerolinecolor": "white"
           }
          },
          "shapedefaults": {
           "line": {
            "color": "#2a3f5f"
           }
          },
          "ternary": {
           "aaxis": {
            "gridcolor": "white",
            "linecolor": "white",
            "ticks": ""
           },
           "baxis": {
            "gridcolor": "white",
            "linecolor": "white",
            "ticks": ""
           },
           "bgcolor": "#E5ECF6",
           "caxis": {
            "gridcolor": "white",
            "linecolor": "white",
            "ticks": ""
           }
          },
          "title": {
           "x": 0.05
          },
          "xaxis": {
           "automargin": true,
           "gridcolor": "white",
           "linecolor": "white",
           "ticks": "",
           "title": {
            "standoff": 15
           },
           "zerolinecolor": "white",
           "zerolinewidth": 2
          },
          "yaxis": {
           "automargin": true,
           "gridcolor": "white",
           "linecolor": "white",
           "ticks": "",
           "title": {
            "standoff": 15
           },
           "zerolinecolor": "white",
           "zerolinewidth": 2
          }
         }
        },
        "title": {
         "text": "Close Price vs Close Price Prediction"
        },
        "width": 900,
        "xaxis": {
         "anchor": "y",
         "domain": [
          0,
          1
         ],
         "title": {
          "text": "Date"
         }
        },
        "yaxis": {
         "anchor": "x",
         "domain": [
          0,
          1
         ],
         "title": {
          "text": "value"
         }
        }
       }
      }
     },
     "metadata": {},
     "output_type": "display_data"
    },
    {
     "name": "stderr",
     "output_type": "stream",
     "text": [
      "24/12/12 18:03:21 WARN GarbageCollectionMetrics: To enable non-built-in garbage collector(s) List(G1 Concurrent GC), users should configure it(them) to spark.eventLog.gcMetrics.youngGenerationGarbageCollectors or spark.eventLog.gcMetrics.oldGenerationGarbageCollectors\n",
      "24/12/12 18:03:21 WARN GarbageCollectionMetrics: To enable non-built-in garbage collector(s) List(G1 Concurrent GC), users should configure it(them) to spark.eventLog.gcMetrics.youngGenerationGarbageCollectors or spark.eventLog.gcMetrics.oldGenerationGarbageCollectors\n"
     ]
    }
   ],
   "source": [
    "# Sort the DataFrame by Date\n",
    "merged_df_pandas = merge_df.sort_values(by=\"Date\")\n",
    "\n",
    "# Plot using Plotly\n",
    "fig = px.line(\n",
    "    merged_df_pandas,\n",
    "    x=\"Date\",\n",
    "    y=[\"Close\", \"Close_Prediction\"],\n",
    "    title=\"Close Price vs Close Price Prediction\"\n",
    ")\n",
    "\n",
    "# Adjust the layout for better visualization\n",
    "fig.update_layout(width=900, height=600)\n",
    "\n",
    "# Show the plot\n",
    "fig.show()\n"
   ]
  }
 ],
 "metadata": {
  "kernelspec": {
   "display_name": "Python 3",
   "language": "python",
   "name": "python3"
  },
  "language_info": {
   "codemirror_mode": {
    "name": "ipython",
    "version": 3
   },
   "file_extension": ".py",
   "mimetype": "text/x-python",
   "name": "python",
   "nbconvert_exporter": "python",
   "pygments_lexer": "ipython3",
   "version": "3.12.3"
  }
 },
 "nbformat": 4,
 "nbformat_minor": 2
}
